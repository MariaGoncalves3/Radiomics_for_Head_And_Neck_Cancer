{
 "cells": [
  {
   "cell_type": "markdown",
   "metadata": {},
   "source": [
    "# Feature Extraction and Selection"
   ]
  },
  {
   "cell_type": "code",
   "execution_count": 7,
   "metadata": {},
   "outputs": [],
   "source": [
    "import six, numpy as np\n",
    "import pandas as pd\n",
    "import csv\n",
    "\n",
    "\n",
    "import radiomics\n",
    "from radiomics import featureextractor  # This module is used for interaction with pyradiomics\n",
    "from collections import OrderedDict\n",
    "\n",
    "import matplotlib.pyplot as plt\n",
    "import seaborn as sb\n",
    "import seaborn as sns"
   ]
  },
  {
   "cell_type": "markdown",
   "metadata": {},
   "source": [
    "## Feature Extraction"
   ]
  },
  {
   "cell_type": "markdown",
   "metadata": {},
   "source": [
    "Using an extractor to set up with the correct parameters and saving the results in a csv file"
   ]
  },
  {
   "cell_type": "code",
   "execution_count": 18,
   "metadata": {},
   "outputs": [
    {
     "name": "stdout",
     "output_type": "stream",
     "text": [
      "Processing case  0\n",
      "Scan:  ../../data/nii/CHUM-001/CT/image.nii.gz\n",
      "Mask:  ../../data/nii/CHUM-001/CT/mask_GTV.nii.gz\n"
     ]
    },
    {
     "name": "stderr",
     "output_type": "stream",
     "text": [
      "Calculating Local Binary Pattern in 2D, but extracting features in 3D. Use with caution!\n"
     ]
    },
    {
     "name": "stdout",
     "output_type": "stream",
     "text": [
      "Mask2:  ../../data/nii/CHUM-001/CT/mask_GTV.nii.gz\n"
     ]
    },
    {
     "name": "stderr",
     "output_type": "stream",
     "text": [
      "Calculating Local Binary Pattern in 2D, but extracting features in 3D. Use with caution!\n"
     ]
    },
    {
     "name": "stdout",
     "output_type": "stream",
     "text": [
      "Processing case  1\n",
      "Scan:  ../../data/nii/CHUM-002/CT/image.nii.gz\n",
      "Mask:  ../../data/nii/CHUM-002/CT/mask_GTV-et-GG.nii.gz\n"
     ]
    },
    {
     "name": "stderr",
     "output_type": "stream",
     "text": [
      "Calculating Local Binary Pattern in 2D, but extracting features in 3D. Use with caution!\n"
     ]
    },
    {
     "name": "stdout",
     "output_type": "stream",
     "text": [
      "Processing case  2\n",
      "Scan:  ../../data/nii/CHUM-003/CT/image.nii.gz\n",
      "Mask:  ../../data/nii/CHUM-003/CT/mask_GTV.nii.gz\n"
     ]
    },
    {
     "name": "stderr",
     "output_type": "stream",
     "text": [
      "Calculating Local Binary Pattern in 2D, but extracting features in 3D. Use with caution!\n"
     ]
    },
    {
     "name": "stdout",
     "output_type": "stream",
     "text": [
      "Mask2:  ../../data/nii/CHUM-003/CT/mask_GTV.nii.gz\n"
     ]
    },
    {
     "name": "stderr",
     "output_type": "stream",
     "text": [
      "Calculating Local Binary Pattern in 2D, but extracting features in 3D. Use with caution!\n"
     ]
    },
    {
     "name": "stdout",
     "output_type": "stream",
     "text": [
      "Processing case  3\n",
      "Scan:  ../../data/nii/CHUM-004/CT/image.nii.gz\n",
      "Mask:  ../../data/nii/CHUM-004/CT/mask_GTV.nii.gz\n"
     ]
    },
    {
     "name": "stderr",
     "output_type": "stream",
     "text": [
      "Calculating Local Binary Pattern in 2D, but extracting features in 3D. Use with caution!\n"
     ]
    },
    {
     "name": "stdout",
     "output_type": "stream",
     "text": [
      "Processing case  4\n",
      "Scan:  ../../data/nii/CHUM-005/CT/image.nii.gz\n",
      "Mask:  ../../data/nii/CHUM-005/CT/mask_GTV.nii.gz\n"
     ]
    },
    {
     "name": "stderr",
     "output_type": "stream",
     "text": [
      "Calculating Local Binary Pattern in 2D, but extracting features in 3D. Use with caution!\n"
     ]
    },
    {
     "name": "stdout",
     "output_type": "stream",
     "text": [
      "Processing case  5\n",
      "Scan:  ../../data/nii/CHUM-013/CT/image.nii.gz\n",
      "Mask:  ../../data/nii/CHUM-013/CT/mask_GTV.nii.gz\n"
     ]
    },
    {
     "name": "stderr",
     "output_type": "stream",
     "text": [
      "Calculating Local Binary Pattern in 2D, but extracting features in 3D. Use with caution!\n"
     ]
    },
    {
     "name": "stdout",
     "output_type": "stream",
     "text": [
      "Mask2:  ../../data/nii/CHUM-013/CT/mask_GTV.nii.gz\n"
     ]
    },
    {
     "name": "stderr",
     "output_type": "stream",
     "text": [
      "Calculating Local Binary Pattern in 2D, but extracting features in 3D. Use with caution!\n"
     ]
    },
    {
     "name": "stdout",
     "output_type": "stream",
     "text": [
      "Processing case  6\n",
      "Scan:  ../../data/nii/CHUM-017/CT/image.nii.gz\n",
      "Mask:  ../../data/nii/CHUM-017/CT/mask_GTV.nii.gz\n"
     ]
    },
    {
     "name": "stderr",
     "output_type": "stream",
     "text": [
      "Calculating Local Binary Pattern in 2D, but extracting features in 3D. Use with caution!\n"
     ]
    },
    {
     "name": "stdout",
     "output_type": "stream",
     "text": [
      "Mask2:  ../../data/nii/CHUM-017/CT/mask_GTV.nii.gz\n"
     ]
    },
    {
     "name": "stderr",
     "output_type": "stream",
     "text": [
      "Calculating Local Binary Pattern in 2D, but extracting features in 3D. Use with caution!\n"
     ]
    },
    {
     "name": "stdout",
     "output_type": "stream",
     "text": [
      "Processing case  7\n",
      "Scan:  ../../data/nii/CHUM-020/CT/image.nii.gz\n",
      "Mask:  ../../data/nii/CHUM-020/CT/mask_GTV.nii.gz\n"
     ]
    },
    {
     "name": "stderr",
     "output_type": "stream",
     "text": [
      "Calculating Local Binary Pattern in 2D, but extracting features in 3D. Use with caution!\n"
     ]
    },
    {
     "name": "stdout",
     "output_type": "stream",
     "text": [
      "Mask2:  ../../data/nii/CHUM-020/CT/mask_GTV.nii.gz\n"
     ]
    },
    {
     "name": "stderr",
     "output_type": "stream",
     "text": [
      "Calculating Local Binary Pattern in 2D, but extracting features in 3D. Use with caution!\n"
     ]
    },
    {
     "name": "stdout",
     "output_type": "stream",
     "text": [
      "Processing case  8\n",
      "Scan:  ../../data/nii/CHUM-021/CT/image.nii.gz\n",
      "Mask:  ../../data/nii/CHUM-021/CT/mask_GTV.nii.gz\n"
     ]
    },
    {
     "name": "stderr",
     "output_type": "stream",
     "text": [
      "Calculating Local Binary Pattern in 2D, but extracting features in 3D. Use with caution!\n"
     ]
    },
    {
     "name": "stdout",
     "output_type": "stream",
     "text": [
      "Processing case  9\n",
      "Scan:  ../../data/nii/CHUM-022/CT/image.nii.gz\n",
      "Mask:  ../../data/nii/CHUM-022/CT/mask_GTV.nii.gz\n"
     ]
    },
    {
     "name": "stderr",
     "output_type": "stream",
     "text": [
      "Calculating Local Binary Pattern in 2D, but extracting features in 3D. Use with caution!\n"
     ]
    },
    {
     "name": "stdout",
     "output_type": "stream",
     "text": [
      "Processing case  10\n",
      "Scan:  ../../data/nii/CHUM-025/CT/image.nii.gz\n",
      "Mask:  ../../data/nii/CHUM-025/CT/mask_GTV.nii.gz\n"
     ]
    },
    {
     "name": "stderr",
     "output_type": "stream",
     "text": [
      "Calculating Local Binary Pattern in 2D, but extracting features in 3D. Use with caution!\n"
     ]
    },
    {
     "name": "stdout",
     "output_type": "stream",
     "text": [
      "Processing case  11\n",
      "Scan:  ../../data/nii/CHUM-026/CT/image.nii.gz\n",
      "Mask:  ../../data/nii/CHUM-026/CT/mask_GTV.nii.gz\n"
     ]
    },
    {
     "name": "stderr",
     "output_type": "stream",
     "text": [
      "Calculating Local Binary Pattern in 2D, but extracting features in 3D. Use with caution!\n"
     ]
    },
    {
     "name": "stdout",
     "output_type": "stream",
     "text": [
      "Mask2:  ../../data/nii/CHUM-026/CT/mask_GTV.nii.gz\n"
     ]
    },
    {
     "name": "stderr",
     "output_type": "stream",
     "text": [
      "Calculating Local Binary Pattern in 2D, but extracting features in 3D. Use with caution!\n"
     ]
    },
    {
     "name": "stdout",
     "output_type": "stream",
     "text": [
      "Processing case  12\n",
      "Scan:  ../../data/nii/CHUM-030/CT/image.nii.gz\n",
      "Mask:  ../../data/nii/CHUM-030/CT/mask_GTV.nii.gz\n"
     ]
    },
    {
     "name": "stderr",
     "output_type": "stream",
     "text": [
      "Calculating Local Binary Pattern in 2D, but extracting features in 3D. Use with caution!\n"
     ]
    },
    {
     "name": "stdout",
     "output_type": "stream",
     "text": [
      "Processing case  13\n",
      "Scan:  ../../data/nii/CHUM-031/CT/image.nii.gz\n",
      "Mask:  ../../data/nii/CHUM-031/CT/mask_GTV.nii.gz\n"
     ]
    },
    {
     "name": "stderr",
     "output_type": "stream",
     "text": [
      "Calculating Local Binary Pattern in 2D, but extracting features in 3D. Use with caution!\n"
     ]
    },
    {
     "name": "stdout",
     "output_type": "stream",
     "text": [
      "Mask2:  ../../data/nii/CHUM-031/CT/mask_GTV.nii.gz\n"
     ]
    },
    {
     "name": "stderr",
     "output_type": "stream",
     "text": [
      "Calculating Local Binary Pattern in 2D, but extracting features in 3D. Use with caution!\n"
     ]
    },
    {
     "name": "stdout",
     "output_type": "stream",
     "text": [
      "Processing case  14\n",
      "Scan:  ../../data/nii/CHUM-032/CT/image.nii.gz\n",
      "Mask:  ../../data/nii/CHUM-032/CT/mask_GTV-n.nii.gz\n"
     ]
    },
    {
     "name": "stderr",
     "output_type": "stream",
     "text": [
      "Calculating Local Binary Pattern in 2D, but extracting features in 3D. Use with caution!\n"
     ]
    },
    {
     "name": "stdout",
     "output_type": "stream",
     "text": [
      "Processing case  15\n",
      "Scan:  ../../data/nii/CHUM-033/CT/image.nii.gz\n",
      "Mask:  ../../data/nii/CHUM-033/CT/mask_GTV.nii.gz\n"
     ]
    },
    {
     "name": "stderr",
     "output_type": "stream",
     "text": [
      "Calculating Local Binary Pattern in 2D, but extracting features in 3D. Use with caution!\n"
     ]
    },
    {
     "name": "stdout",
     "output_type": "stream",
     "text": [
      "Processing case  16\n",
      "Scan:  ../../data/nii/CHUM-040/CT/image.nii.gz\n",
      "Mask:  ../../data/nii/CHUM-040/CT/mask_GTV.nii.gz\n"
     ]
    },
    {
     "name": "stderr",
     "output_type": "stream",
     "text": [
      "Calculating Local Binary Pattern in 2D, but extracting features in 3D. Use with caution!\n"
     ]
    },
    {
     "name": "stdout",
     "output_type": "stream",
     "text": [
      "Mask2:  ../../data/nii/CHUM-040/CT/mask_GTV.nii.gz\n"
     ]
    },
    {
     "name": "stderr",
     "output_type": "stream",
     "text": [
      "Calculating Local Binary Pattern in 2D, but extracting features in 3D. Use with caution!\n"
     ]
    },
    {
     "name": "stdout",
     "output_type": "stream",
     "text": [
      "Processing case  17\n",
      "Scan:  ../../data/nii/CHUM-045/CT/image.nii.gz\n",
      "Mask:  ../../data/nii/CHUM-045/CT/mask_GTV.nii.gz\n"
     ]
    },
    {
     "name": "stderr",
     "output_type": "stream",
     "text": [
      "Calculating Local Binary Pattern in 2D, but extracting features in 3D. Use with caution!\n"
     ]
    },
    {
     "name": "stdout",
     "output_type": "stream",
     "text": [
      "Mask2:  ../../data/nii/CHUM-045/CT/mask_GTV.nii.gz\n"
     ]
    },
    {
     "name": "stderr",
     "output_type": "stream",
     "text": [
      "Calculating Local Binary Pattern in 2D, but extracting features in 3D. Use with caution!\n"
     ]
    },
    {
     "name": "stdout",
     "output_type": "stream",
     "text": [
      "Processing case  18\n",
      "Scan:  ../../data/nii/CHUM-050/CT/image.nii.gz\n",
      "Mask:  ../../data/nii/CHUM-050/CT/mask_GTV.nii.gz\n"
     ]
    },
    {
     "name": "stderr",
     "output_type": "stream",
     "text": [
      "Calculating Local Binary Pattern in 2D, but extracting features in 3D. Use with caution!\n"
     ]
    },
    {
     "name": "stdout",
     "output_type": "stream",
     "text": [
      "Processing case  19\n",
      "Scan:  ../../data/nii/CHUM-051/CT/image.nii.gz\n",
      "Mask:  ../../data/nii/CHUM-051/CT/mask_GTV.nii.gz\n"
     ]
    },
    {
     "name": "stderr",
     "output_type": "stream",
     "text": [
      "Calculating Local Binary Pattern in 2D, but extracting features in 3D. Use with caution!\n"
     ]
    },
    {
     "name": "stdout",
     "output_type": "stream",
     "text": [
      "Processing case  20\n",
      "Scan:  ../../data/nii/CHUM-052/CT/image.nii.gz\n",
      "Mask:  ../../data/nii/CHUM-052/CT/mask_GTV.nii.gz\n"
     ]
    },
    {
     "name": "stderr",
     "output_type": "stream",
     "text": [
      "Calculating Local Binary Pattern in 2D, but extracting features in 3D. Use with caution!\n"
     ]
    },
    {
     "name": "stdout",
     "output_type": "stream",
     "text": [
      "Processing case  21\n",
      "Scan:  ../../data/nii/CHUM-061/CT/image.nii.gz\n",
      "Mask:  ../../data/nii/CHUM-061/CT/mask_GTV.nii.gz\n"
     ]
    },
    {
     "name": "stderr",
     "output_type": "stream",
     "text": [
      "Calculating Local Binary Pattern in 2D, but extracting features in 3D. Use with caution!\n"
     ]
    },
    {
     "name": "stdout",
     "output_type": "stream",
     "text": [
      "Processing case  22\n",
      "Scan:  ../../data/nii/CHUM-063/CT/image.nii.gz\n",
      "Mask:  ../../data/nii/CHUM-063/CT/mask_GTV.nii.gz\n"
     ]
    },
    {
     "name": "stderr",
     "output_type": "stream",
     "text": [
      "Calculating Local Binary Pattern in 2D, but extracting features in 3D. Use with caution!\n"
     ]
    },
    {
     "name": "stdout",
     "output_type": "stream",
     "text": [
      "Processing case  23\n",
      "Scan:  ../../data/nii/CHUS-001/CT/image.nii.gz\n",
      "Mask:  ../../data/nii/CHUS-001/CT/mask_GTV.nii.gz\n"
     ]
    },
    {
     "name": "stderr",
     "output_type": "stream",
     "text": [
      "Calculating Local Binary Pattern in 2D, but extracting features in 3D. Use with caution!\n"
     ]
    },
    {
     "name": "stdout",
     "output_type": "stream",
     "text": [
      "Processing case  24\n",
      "Scan:  ../../data/nii/CHUS-002/CT/image.nii.gz\n",
      "Mask:  ../../data/nii/CHUS-002/CT/mask_GTV.nii.gz\n"
     ]
    },
    {
     "name": "stderr",
     "output_type": "stream",
     "text": [
      "Calculating Local Binary Pattern in 2D, but extracting features in 3D. Use with caution!\n"
     ]
    },
    {
     "name": "stdout",
     "output_type": "stream",
     "text": [
      "Processing case  25\n",
      "Scan:  ../../data/nii/CHUS-003/CT/image.nii.gz\n",
      "Mask:  ../../data/nii/CHUS-003/CT/mask_GTV.nii.gz\n"
     ]
    },
    {
     "name": "stderr",
     "output_type": "stream",
     "text": [
      "Calculating Local Binary Pattern in 2D, but extracting features in 3D. Use with caution!\n"
     ]
    },
    {
     "name": "stdout",
     "output_type": "stream",
     "text": [
      "Processing case  26\n",
      "Scan:  ../../data/nii/CHUS-004/CT/image.nii.gz\n",
      "Mask:  ../../data/nii/CHUS-004/CT/mask_GTV.nii.gz\n"
     ]
    },
    {
     "name": "stderr",
     "output_type": "stream",
     "text": [
      "Calculating Local Binary Pattern in 2D, but extracting features in 3D. Use with caution!\n"
     ]
    },
    {
     "name": "stdout",
     "output_type": "stream",
     "text": [
      "Processing case  27\n",
      "Scan:  ../../data/nii/CHUS-005/CT/image.nii.gz\n",
      "Mask:  ../../data/nii/CHUS-005/CT/mask_GTV.nii.gz\n"
     ]
    },
    {
     "name": "stderr",
     "output_type": "stream",
     "text": [
      "Calculating Local Binary Pattern in 2D, but extracting features in 3D. Use with caution!\n"
     ]
    },
    {
     "name": "stdout",
     "output_type": "stream",
     "text": [
      "Processing case  28\n",
      "Scan:  ../../data/nii/CHUS-006/CT/image.nii.gz\n",
      "Mask:  ../../data/nii/CHUS-006/CT/mask_GTV.nii.gz\n"
     ]
    },
    {
     "name": "stderr",
     "output_type": "stream",
     "text": [
      "Calculating Local Binary Pattern in 2D, but extracting features in 3D. Use with caution!\n"
     ]
    },
    {
     "name": "stdout",
     "output_type": "stream",
     "text": [
      "Processing case  29\n",
      "Scan:  ../../data/nii/CHUS-007/CT/image.nii.gz\n",
      "Mask:  ../../data/nii/CHUS-007/CT/mask_GTV1.nii.gz\n"
     ]
    },
    {
     "name": "stderr",
     "output_type": "stream",
     "text": [
      "Calculating Local Binary Pattern in 2D, but extracting features in 3D. Use with caution!\n"
     ]
    },
    {
     "name": "stdout",
     "output_type": "stream",
     "text": [
      "Processing case  30\n",
      "Scan:  ../../data/nii/CHUS-008/CT/image.nii.gz\n",
      "Mask:  ../../data/nii/CHUS-008/CT/mask_GTV.nii.gz\n"
     ]
    },
    {
     "name": "stderr",
     "output_type": "stream",
     "text": [
      "Calculating Local Binary Pattern in 2D, but extracting features in 3D. Use with caution!\n"
     ]
    },
    {
     "name": "stdout",
     "output_type": "stream",
     "text": [
      "Processing case  31\n",
      "Scan:  ../../data/nii/CHUS-009/CT/image.nii.gz\n",
      "Mask:  ../../data/nii/CHUS-009/CT/mask_GTV.nii.gz\n"
     ]
    },
    {
     "name": "stderr",
     "output_type": "stream",
     "text": [
      "Calculating Local Binary Pattern in 2D, but extracting features in 3D. Use with caution!\n"
     ]
    },
    {
     "name": "stdout",
     "output_type": "stream",
     "text": [
      "Processing case  32\n",
      "Scan:  ../../data/nii/CHUS-010/CT/image.nii.gz\n",
      "Mask:  ../../data/nii/CHUS-010/CT/mask_GTV.nii.gz\n"
     ]
    },
    {
     "name": "stderr",
     "output_type": "stream",
     "text": [
      "Calculating Local Binary Pattern in 2D, but extracting features in 3D. Use with caution!\n"
     ]
    },
    {
     "name": "stdout",
     "output_type": "stream",
     "text": [
      "Processing case  33\n",
      "Scan:  ../../data/nii/CHUS-011/CT/image.nii.gz\n",
      "Mask:  ../../data/nii/CHUS-011/CT/mask_GTV.nii.gz\n"
     ]
    },
    {
     "name": "stderr",
     "output_type": "stream",
     "text": [
      "Calculating Local Binary Pattern in 2D, but extracting features in 3D. Use with caution!\n"
     ]
    },
    {
     "name": "stdout",
     "output_type": "stream",
     "text": [
      "Processing case  34\n",
      "Scan:  ../../data/nii/CHUS-013/CT/image.nii.gz\n",
      "Mask:  ../../data/nii/CHUS-013/CT/mask_GTV.nii.gz\n"
     ]
    },
    {
     "name": "stderr",
     "output_type": "stream",
     "text": [
      "Calculating Local Binary Pattern in 2D, but extracting features in 3D. Use with caution!\n"
     ]
    },
    {
     "name": "stdout",
     "output_type": "stream",
     "text": [
      "Processing case  35\n",
      "Scan:  ../../data/nii/CHUS-015/CT/image.nii.gz\n",
      "Mask:  ../../data/nii/CHUS-015/CT/mask_GTV.nii.gz\n"
     ]
    },
    {
     "name": "stderr",
     "output_type": "stream",
     "text": [
      "Calculating Local Binary Pattern in 2D, but extracting features in 3D. Use with caution!\n"
     ]
    },
    {
     "name": "stdout",
     "output_type": "stream",
     "text": [
      "Processing case  36\n",
      "Scan:  ../../data/nii/CHUS-016/CT/image.nii.gz\n",
      "Mask:  ../../data/nii/CHUS-016/CT/mask_GTV.nii.gz\n"
     ]
    },
    {
     "name": "stderr",
     "output_type": "stream",
     "text": [
      "Calculating Local Binary Pattern in 2D, but extracting features in 3D. Use with caution!\n"
     ]
    },
    {
     "name": "stdout",
     "output_type": "stream",
     "text": [
      "Processing case  37\n",
      "Scan:  ../../data/nii/CHUS-017/CT/image.nii.gz\n",
      "Mask:  ../../data/nii/CHUS-017/CT/mask_GTV.nii.gz\n"
     ]
    },
    {
     "name": "stderr",
     "output_type": "stream",
     "text": [
      "Calculating Local Binary Pattern in 2D, but extracting features in 3D. Use with caution!\n"
     ]
    },
    {
     "name": "stdout",
     "output_type": "stream",
     "text": [
      "Processing case  38\n",
      "Scan:  ../../data/nii/CHUS-018/CT/image.nii.gz\n",
      "Mask:  ../../data/nii/CHUS-018/CT/mask_GTV.nii.gz\n"
     ]
    },
    {
     "name": "stderr",
     "output_type": "stream",
     "text": [
      "Calculating Local Binary Pattern in 2D, but extracting features in 3D. Use with caution!\n"
     ]
    },
    {
     "name": "stdout",
     "output_type": "stream",
     "text": [
      "Processing case  39\n",
      "Scan:  ../../data/nii/CHUS-019/CT/image.nii.gz\n",
      "Mask:  ../../data/nii/CHUS-019/CT/mask_GTV.nii.gz\n"
     ]
    },
    {
     "name": "stderr",
     "output_type": "stream",
     "text": [
      "Calculating Local Binary Pattern in 2D, but extracting features in 3D. Use with caution!\n"
     ]
    },
    {
     "name": "stdout",
     "output_type": "stream",
     "text": [
      "Processing case  40\n",
      "Scan:  ../../data/nii/CHUS-021/CT/image.nii.gz\n",
      "Mask:  ../../data/nii/CHUS-021/CT/mask_GTV.nii.gz\n"
     ]
    },
    {
     "name": "stderr",
     "output_type": "stream",
     "text": [
      "Calculating Local Binary Pattern in 2D, but extracting features in 3D. Use with caution!\n"
     ]
    },
    {
     "name": "stdout",
     "output_type": "stream",
     "text": [
      "Processing case  41\n",
      "Scan:  ../../data/nii/CHUS-022/CT/image.nii.gz\n",
      "Mask:  ../../data/nii/CHUS-022/CT/mask_GTV.nii.gz\n"
     ]
    },
    {
     "name": "stderr",
     "output_type": "stream",
     "text": [
      "Calculating Local Binary Pattern in 2D, but extracting features in 3D. Use with caution!\n"
     ]
    },
    {
     "name": "stdout",
     "output_type": "stream",
     "text": [
      "Processing case  42\n",
      "Scan:  ../../data/nii/CHUS-023/CT/image.nii.gz\n",
      "Mask:  ../../data/nii/CHUS-023/CT/mask_GTV-langue.nii.gz\n"
     ]
    },
    {
     "name": "stderr",
     "output_type": "stream",
     "text": [
      "Calculating Local Binary Pattern in 2D, but extracting features in 3D. Use with caution!\n"
     ]
    },
    {
     "name": "stdout",
     "output_type": "stream",
     "text": [
      "Mask2:  ../../data/nii/CHUS-023/CT/mask_GTV-langue.nii.gz\n"
     ]
    },
    {
     "name": "stderr",
     "output_type": "stream",
     "text": [
      "Calculating Local Binary Pattern in 2D, but extracting features in 3D. Use with caution!\n"
     ]
    },
    {
     "name": "stdout",
     "output_type": "stream",
     "text": [
      "Processing case  43\n",
      "Scan:  ../../data/nii/CHUS-024/CT/image.nii.gz\n",
      "Mask:  ../../data/nii/CHUS-024/CT/mask_GTV.nii.gz\n"
     ]
    },
    {
     "name": "stderr",
     "output_type": "stream",
     "text": [
      "Calculating Local Binary Pattern in 2D, but extracting features in 3D. Use with caution!\n"
     ]
    },
    {
     "name": "stdout",
     "output_type": "stream",
     "text": [
      "Processing case  44\n",
      "Scan:  ../../data/nii/CHUS-026/CT/image.nii.gz\n",
      "Mask:  ../../data/nii/CHUS-026/CT/mask_GTVp.nii.gz\n"
     ]
    },
    {
     "name": "stderr",
     "output_type": "stream",
     "text": [
      "Calculating Local Binary Pattern in 2D, but extracting features in 3D. Use with caution!\n"
     ]
    },
    {
     "name": "stdout",
     "output_type": "stream",
     "text": [
      "Processing case  45\n",
      "Scan:  ../../data/nii/CHUS-033/CT/image.nii.gz\n",
      "Mask:  ../../data/nii/CHUS-033/CT/mask_GTV-p.nii.gz\n"
     ]
    },
    {
     "name": "stderr",
     "output_type": "stream",
     "text": [
      "Calculating Local Binary Pattern in 2D, but extracting features in 3D. Use with caution!\n"
     ]
    },
    {
     "name": "stdout",
     "output_type": "stream",
     "text": [
      "Processing case  46\n",
      "Scan:  ../../data/nii/CHUS-086/CT/image.nii.gz\n",
      "Mask:  ../../data/nii/CHUS-086/CT/mask_GTVp.nii.gz\n"
     ]
    },
    {
     "name": "stderr",
     "output_type": "stream",
     "text": [
      "Calculating Local Binary Pattern in 2D, but extracting features in 3D. Use with caution!\n"
     ]
    },
    {
     "name": "stdout",
     "output_type": "stream",
     "text": [
      "Processing case  47\n",
      "Scan:  ../../data/nii/CHUS-089/CT/image.nii.gz\n",
      "Mask:  ../../data/nii/CHUS-089/CT/mask_GTV1.nii.gz\n"
     ]
    },
    {
     "name": "stderr",
     "output_type": "stream",
     "text": [
      "Calculating Local Binary Pattern in 2D, but extracting features in 3D. Use with caution!\n"
     ]
    },
    {
     "name": "stdout",
     "output_type": "stream",
     "text": [
      "Processing case  48\n",
      "Scan:  ../../data/nii/CHUS-093/CT/image.nii.gz\n",
      "Mask:  ../../data/nii/CHUS-093/CT/mask_GTV1.nii.gz\n"
     ]
    },
    {
     "name": "stderr",
     "output_type": "stream",
     "text": [
      "Calculating Local Binary Pattern in 2D, but extracting features in 3D. Use with caution!\n"
     ]
    },
    {
     "name": "stdout",
     "output_type": "stream",
     "text": [
      "Processing case  49\n",
      "Scan:  ../../data/nii/CHUS-096/CT/image.nii.gz\n",
      "Mask:  ../../data/nii/CHUS-096/CT/mask_GTVt.nii.gz\n"
     ]
    },
    {
     "name": "stderr",
     "output_type": "stream",
     "text": [
      "Calculating Local Binary Pattern in 2D, but extracting features in 3D. Use with caution!\n"
     ]
    },
    {
     "name": "stdout",
     "output_type": "stream",
     "text": [
      "Processing case  50\n",
      "Scan:  ../../data/nii/CHUS-099/CT/image.nii.gz\n",
      "Mask:  ../../data/nii/CHUS-099/CT/mask_GTV1-fusion-TEP.nii.gz\n"
     ]
    },
    {
     "name": "stderr",
     "output_type": "stream",
     "text": [
      "Calculating Local Binary Pattern in 2D, but extracting features in 3D. Use with caution!\n"
     ]
    },
    {
     "name": "stdout",
     "output_type": "stream",
     "text": [
      "Mask2:  ../../data/nii/CHUS-099/CT/mask_GTV1-fusion-TEP.nii.gz\n"
     ]
    },
    {
     "name": "stderr",
     "output_type": "stream",
     "text": [
      "Calculating Local Binary Pattern in 2D, but extracting features in 3D. Use with caution!\n"
     ]
    },
    {
     "name": "stdout",
     "output_type": "stream",
     "text": [
      "Processing case  51\n",
      "Scan:  ../../data/nii/CHUS-100/CT/image.nii.gz\n",
      "Mask:  ../../data/nii/CHUS-100/CT/mask_GTV3-GTV-a-prendre.nii.gz\n"
     ]
    },
    {
     "name": "stderr",
     "output_type": "stream",
     "text": [
      "Calculating Local Binary Pattern in 2D, but extracting features in 3D. Use with caution!\n"
     ]
    },
    {
     "name": "stdout",
     "output_type": "stream",
     "text": [
      "Processing case  52\n",
      "Scan:  ../../data/nii/CHUS-101/CT/image.nii.gz\n",
      "Mask:  ../../data/nii/CHUS-101/CT/mask_GTV-TEP.nii.gz\n"
     ]
    },
    {
     "name": "stderr",
     "output_type": "stream",
     "text": [
      "Calculating Local Binary Pattern in 2D, but extracting features in 3D. Use with caution!\n"
     ]
    },
    {
     "name": "stdout",
     "output_type": "stream",
     "text": [
      "Mask2:  ../../data/nii/CHUS-101/CT/mask_GTV-TEP.nii.gz\n"
     ]
    },
    {
     "name": "stderr",
     "output_type": "stream",
     "text": [
      "Calculating Local Binary Pattern in 2D, but extracting features in 3D. Use with caution!\n"
     ]
    },
    {
     "name": "stdout",
     "output_type": "stream",
     "text": [
      "Processing case  53\n",
      "Scan:  ../../data/nii/CHUS-102/CT/image.nii.gz\n",
      "Mask:  ../../data/nii/CHUS-102/CT/mask_GTVt.nii.gz\n"
     ]
    },
    {
     "name": "stderr",
     "output_type": "stream",
     "text": [
      "Calculating Local Binary Pattern in 2D, but extracting features in 3D. Use with caution!\n"
     ]
    },
    {
     "name": "stdout",
     "output_type": "stream",
     "text": [
      "Processing case  54\n",
      "Scan:  ../../data/nii/HGJ-001/CT/image.nii.gz\n",
      "Mask:  ../../data/nii/HGJ-001/CT/mask_GTV.nii.gz\n"
     ]
    },
    {
     "name": "stderr",
     "output_type": "stream",
     "text": [
      "Calculating Local Binary Pattern in 2D, but extracting features in 3D. Use with caution!\n"
     ]
    },
    {
     "name": "stdout",
     "output_type": "stream",
     "text": [
      "Processing case  55\n",
      "Scan:  ../../data/nii/HGJ-002/CT/image.nii.gz\n",
      "Mask:  ../../data/nii/HGJ-002/CT/mask_GTV.nii.gz\n"
     ]
    },
    {
     "name": "stderr",
     "output_type": "stream",
     "text": [
      "Calculating Local Binary Pattern in 2D, but extracting features in 3D. Use with caution!\n"
     ]
    },
    {
     "name": "stdout",
     "output_type": "stream",
     "text": [
      "Processing case  56\n",
      "Scan:  ../../data/nii/HGJ-003/CT/image.nii.gz\n",
      "Mask:  ../../data/nii/HGJ-003/CT/mask_GTV.nii.gz\n"
     ]
    },
    {
     "name": "stderr",
     "output_type": "stream",
     "text": [
      "Calculating Local Binary Pattern in 2D, but extracting features in 3D. Use with caution!\n"
     ]
    },
    {
     "name": "stdout",
     "output_type": "stream",
     "text": [
      "Processing case  57\n",
      "Scan:  ../../data/nii/HGJ-004/CT/image.nii.gz\n",
      "Mask:  ../../data/nii/HGJ-004/CT/mask_GTV.nii.gz\n"
     ]
    },
    {
     "name": "stderr",
     "output_type": "stream",
     "text": [
      "Calculating Local Binary Pattern in 2D, but extracting features in 3D. Use with caution!\n"
     ]
    },
    {
     "name": "stdout",
     "output_type": "stream",
     "text": [
      "Processing case  58\n",
      "Scan:  ../../data/nii/HGJ-005/CT/image.nii.gz\n",
      "Mask:  ../../data/nii/HGJ-005/CT/mask_GTV.nii.gz\n"
     ]
    },
    {
     "name": "stderr",
     "output_type": "stream",
     "text": [
      "Calculating Local Binary Pattern in 2D, but extracting features in 3D. Use with caution!\n"
     ]
    },
    {
     "name": "stdout",
     "output_type": "stream",
     "text": [
      "Processing case  59\n",
      "Scan:  ../../data/nii/HGJ-006/CT/image.nii.gz\n",
      "Mask:  ../../data/nii/HGJ-006/CT/mask_GTV.nii.gz\n"
     ]
    },
    {
     "name": "stderr",
     "output_type": "stream",
     "text": [
      "Calculating Local Binary Pattern in 2D, but extracting features in 3D. Use with caution!\n"
     ]
    },
    {
     "name": "stdout",
     "output_type": "stream",
     "text": [
      "Processing case  60\n",
      "Scan:  ../../data/nii/HGJ-007/CT/image.nii.gz\n",
      "Mask:  ../../data/nii/HGJ-007/CT/mask_GTV.nii.gz\n"
     ]
    },
    {
     "name": "stderr",
     "output_type": "stream",
     "text": [
      "Calculating Local Binary Pattern in 2D, but extracting features in 3D. Use with caution!\n"
     ]
    },
    {
     "name": "stdout",
     "output_type": "stream",
     "text": [
      "Processing case  61\n",
      "Scan:  ../../data/nii/HGJ-008/CT/image.nii.gz\n",
      "Mask:  ../../data/nii/HGJ-008/CT/mask_GTV.nii.gz\n"
     ]
    },
    {
     "name": "stderr",
     "output_type": "stream",
     "text": [
      "Calculating Local Binary Pattern in 2D, but extracting features in 3D. Use with caution!\n"
     ]
    },
    {
     "name": "stdout",
     "output_type": "stream",
     "text": [
      "Processing case  62\n",
      "Scan:  ../../data/nii/HGJ-009/CT/image.nii.gz\n",
      "Mask:  ../../data/nii/HGJ-009/CT/mask_GTV.nii.gz\n"
     ]
    },
    {
     "name": "stderr",
     "output_type": "stream",
     "text": [
      "Calculating Local Binary Pattern in 2D, but extracting features in 3D. Use with caution!\n"
     ]
    },
    {
     "name": "stdout",
     "output_type": "stream",
     "text": [
      "Processing case  63\n",
      "Scan:  ../../data/nii/HGJ-010/CT/image.nii.gz\n",
      "Mask:  ../../data/nii/HGJ-010/CT/mask_GTV.nii.gz\n"
     ]
    },
    {
     "name": "stderr",
     "output_type": "stream",
     "text": [
      "Calculating Local Binary Pattern in 2D, but extracting features in 3D. Use with caution!\n"
     ]
    },
    {
     "name": "stdout",
     "output_type": "stream",
     "text": [
      "Processing case  64\n",
      "Scan:  ../../data/nii/HGJ-011/CT/image.nii.gz\n",
      "Mask:  ../../data/nii/HGJ-011/CT/mask_GTV.nii.gz\n"
     ]
    },
    {
     "name": "stderr",
     "output_type": "stream",
     "text": [
      "Calculating Local Binary Pattern in 2D, but extracting features in 3D. Use with caution!\n"
     ]
    },
    {
     "name": "stdout",
     "output_type": "stream",
     "text": [
      "Processing case  65\n",
      "Scan:  ../../data/nii/HGJ-012/CT/image.nii.gz\n",
      "Mask:  ../../data/nii/HGJ-012/CT/mask_GTV.nii.gz\n"
     ]
    },
    {
     "name": "stderr",
     "output_type": "stream",
     "text": [
      "Calculating Local Binary Pattern in 2D, but extracting features in 3D. Use with caution!\n"
     ]
    },
    {
     "name": "stdout",
     "output_type": "stream",
     "text": [
      "Processing case  66\n",
      "Scan:  ../../data/nii/HGJ-013/CT/image.nii.gz\n",
      "Mask:  ../../data/nii/HGJ-013/CT/mask_GTV.nii.gz\n"
     ]
    },
    {
     "name": "stderr",
     "output_type": "stream",
     "text": [
      "Calculating Local Binary Pattern in 2D, but extracting features in 3D. Use with caution!\n"
     ]
    },
    {
     "name": "stdout",
     "output_type": "stream",
     "text": [
      "Processing case  67\n",
      "Scan:  ../../data/nii/HGJ-014/CT/image.nii.gz\n",
      "Mask:  ../../data/nii/HGJ-014/CT/mask_GTV.nii.gz\n"
     ]
    },
    {
     "name": "stderr",
     "output_type": "stream",
     "text": [
      "Calculating Local Binary Pattern in 2D, but extracting features in 3D. Use with caution!\n"
     ]
    },
    {
     "name": "stdout",
     "output_type": "stream",
     "text": [
      "Processing case  68\n",
      "Scan:  ../../data/nii/HGJ-015/CT/image.nii.gz\n",
      "Mask:  ../../data/nii/HGJ-015/CT/mask_GTV.nii.gz\n"
     ]
    },
    {
     "name": "stderr",
     "output_type": "stream",
     "text": [
      "Calculating Local Binary Pattern in 2D, but extracting features in 3D. Use with caution!\n"
     ]
    },
    {
     "name": "stdout",
     "output_type": "stream",
     "text": [
      "Processing case  69\n",
      "Scan:  ../../data/nii/HGJ-016/CT/image.nii.gz\n",
      "Mask:  ../../data/nii/HGJ-016/CT/mask_GTV.nii.gz\n"
     ]
    },
    {
     "name": "stderr",
     "output_type": "stream",
     "text": [
      "Calculating Local Binary Pattern in 2D, but extracting features in 3D. Use with caution!\n"
     ]
    },
    {
     "name": "stdout",
     "output_type": "stream",
     "text": [
      "Processing case  70\n",
      "Scan:  ../../data/nii/HGJ-017/CT/image.nii.gz\n",
      "Mask:  ../../data/nii/HGJ-017/CT/mask_GTV.nii.gz\n"
     ]
    },
    {
     "name": "stderr",
     "output_type": "stream",
     "text": [
      "Calculating Local Binary Pattern in 2D, but extracting features in 3D. Use with caution!\n"
     ]
    },
    {
     "name": "stdout",
     "output_type": "stream",
     "text": [
      "Processing case  71\n",
      "Scan:  ../../data/nii/HGJ-018/CT/image.nii.gz\n",
      "Mask:  ../../data/nii/HGJ-018/CT/mask_GTV.nii.gz\n"
     ]
    },
    {
     "name": "stderr",
     "output_type": "stream",
     "text": [
      "Calculating Local Binary Pattern in 2D, but extracting features in 3D. Use with caution!\n"
     ]
    },
    {
     "name": "stdout",
     "output_type": "stream",
     "text": [
      "Processing case  72\n",
      "Scan:  ../../data/nii/HGJ-019/CT/image.nii.gz\n",
      "Mask:  ../../data/nii/HGJ-019/CT/mask_GTV.nii.gz\n"
     ]
    },
    {
     "name": "stderr",
     "output_type": "stream",
     "text": [
      "Calculating Local Binary Pattern in 2D, but extracting features in 3D. Use with caution!\n"
     ]
    },
    {
     "name": "stdout",
     "output_type": "stream",
     "text": [
      "Processing case  73\n",
      "Scan:  ../../data/nii/HGJ-020/CT/image.nii.gz\n",
      "Mask:  ../../data/nii/HGJ-020/CT/mask_GTV.nii.gz\n"
     ]
    },
    {
     "name": "stderr",
     "output_type": "stream",
     "text": [
      "Calculating Local Binary Pattern in 2D, but extracting features in 3D. Use with caution!\n"
     ]
    },
    {
     "name": "stdout",
     "output_type": "stream",
     "text": [
      "Processing case  74\n",
      "Scan:  ../../data/nii/HGJ-021/CT/image.nii.gz\n",
      "Mask:  ../../data/nii/HGJ-021/CT/mask_GTV1.nii.gz\n"
     ]
    },
    {
     "name": "stderr",
     "output_type": "stream",
     "text": [
      "Calculating Local Binary Pattern in 2D, but extracting features in 3D. Use with caution!\n"
     ]
    },
    {
     "name": "stdout",
     "output_type": "stream",
     "text": [
      "Processing case  75\n",
      "Scan:  ../../data/nii/HGJ-022/CT/image.nii.gz\n",
      "Mask:  ../../data/nii/HGJ-022/CT/mask_GTV-P.nii.gz\n"
     ]
    },
    {
     "name": "stderr",
     "output_type": "stream",
     "text": [
      "Calculating Local Binary Pattern in 2D, but extracting features in 3D. Use with caution!\n"
     ]
    },
    {
     "name": "stdout",
     "output_type": "stream",
     "text": [
      "Processing case  76\n",
      "Scan:  ../../data/nii/HGJ-023/CT/image.nii.gz\n",
      "Mask:  ../../data/nii/HGJ-023/CT/mask_GTV.nii.gz\n"
     ]
    },
    {
     "name": "stderr",
     "output_type": "stream",
     "text": [
      "Calculating Local Binary Pattern in 2D, but extracting features in 3D. Use with caution!\n"
     ]
    },
    {
     "name": "stdout",
     "output_type": "stream",
     "text": [
      "Processing case  77\n",
      "Scan:  ../../data/nii/HGJ-024/CT/image.nii.gz\n",
      "Mask:  ../../data/nii/HGJ-024/CT/mask_GTV.nii.gz\n"
     ]
    },
    {
     "name": "stderr",
     "output_type": "stream",
     "text": [
      "Calculating Local Binary Pattern in 2D, but extracting features in 3D. Use with caution!\n"
     ]
    },
    {
     "name": "stdout",
     "output_type": "stream",
     "text": [
      "Processing case  78\n",
      "Scan:  ../../data/nii/HGJ-025/CT/image.nii.gz\n",
      "Mask:  ../../data/nii/HGJ-025/CT/mask_GTV-67.nii.gz\n"
     ]
    },
    {
     "name": "stderr",
     "output_type": "stream",
     "text": [
      "Calculating Local Binary Pattern in 2D, but extracting features in 3D. Use with caution!\n"
     ]
    },
    {
     "name": "stdout",
     "output_type": "stream",
     "text": [
      "Processing case  79\n",
      "Scan:  ../../data/nii/HGJ-026/CT/image.nii.gz\n",
      "Mask:  ../../data/nii/HGJ-026/CT/mask_GTV.nii.gz\n"
     ]
    },
    {
     "name": "stderr",
     "output_type": "stream",
     "text": [
      "Calculating Local Binary Pattern in 2D, but extracting features in 3D. Use with caution!\n"
     ]
    },
    {
     "name": "stdout",
     "output_type": "stream",
     "text": [
      "Processing case  80\n",
      "Scan:  ../../data/nii/HGJ-027/CT/image.nii.gz\n",
      "Mask:  ../../data/nii/HGJ-027/CT/mask_gtv-pet.nii.gz\n"
     ]
    },
    {
     "name": "stderr",
     "output_type": "stream",
     "text": [
      "Calculating Local Binary Pattern in 2D, but extracting features in 3D. Use with caution!\n"
     ]
    },
    {
     "name": "stdout",
     "output_type": "stream",
     "text": [
      "Processing case  81\n",
      "Scan:  ../../data/nii/HGJ-028/CT/image.nii.gz\n",
      "Mask:  ../../data/nii/HGJ-028/CT/mask_GTV.nii.gz\n"
     ]
    },
    {
     "name": "stderr",
     "output_type": "stream",
     "text": [
      "Calculating Local Binary Pattern in 2D, but extracting features in 3D. Use with caution!\n"
     ]
    },
    {
     "name": "stdout",
     "output_type": "stream",
     "text": [
      "Processing case  82\n",
      "Scan:  ../../data/nii/HGJ-029/CT/image.nii.gz\n",
      "Mask:  ../../data/nii/HGJ-029/CT/mask_GTV.nii.gz\n"
     ]
    },
    {
     "name": "stderr",
     "output_type": "stream",
     "text": [
      "Calculating Local Binary Pattern in 2D, but extracting features in 3D. Use with caution!\n"
     ]
    },
    {
     "name": "stdout",
     "output_type": "stream",
     "text": [
      "Processing case  83\n",
      "Scan:  ../../data/nii/HGJ-030/CT/image.nii.gz\n",
      "Mask:  ../../data/nii/HGJ-030/CT/mask_GTV.nii.gz\n"
     ]
    },
    {
     "name": "stderr",
     "output_type": "stream",
     "text": [
      "Calculating Local Binary Pattern in 2D, but extracting features in 3D. Use with caution!\n"
     ]
    },
    {
     "name": "stdout",
     "output_type": "stream",
     "text": [
      "Processing case  84\n",
      "Scan:  ../../data/nii/HGJ-031/CT/image.nii.gz\n",
      "Mask:  ../../data/nii/HGJ-031/CT/mask_GTV.nii.gz\n"
     ]
    },
    {
     "name": "stderr",
     "output_type": "stream",
     "text": [
      "Calculating Local Binary Pattern in 2D, but extracting features in 3D. Use with caution!\n"
     ]
    },
    {
     "name": "stdout",
     "output_type": "stream",
     "text": [
      "Processing case  85\n",
      "Scan:  ../../data/nii/HGJ-032/CT/image.nii.gz\n",
      "Mask:  ../../data/nii/HGJ-032/CT/mask_GTV.nii.gz\n"
     ]
    },
    {
     "name": "stderr",
     "output_type": "stream",
     "text": [
      "Calculating Local Binary Pattern in 2D, but extracting features in 3D. Use with caution!\n"
     ]
    },
    {
     "name": "stdout",
     "output_type": "stream",
     "text": [
      "Processing case  86\n",
      "Scan:  ../../data/nii/HGJ-033/CT/image.nii.gz\n",
      "Mask:  ../../data/nii/HGJ-033/CT/mask_GTV-P.nii.gz\n"
     ]
    },
    {
     "name": "stderr",
     "output_type": "stream",
     "text": [
      "Calculating Local Binary Pattern in 2D, but extracting features in 3D. Use with caution!\n"
     ]
    },
    {
     "name": "stdout",
     "output_type": "stream",
     "text": [
      "Processing case  87\n",
      "Scan:  ../../data/nii/HGJ-034/CT/image.nii.gz\n",
      "Mask:  ../../data/nii/HGJ-034/CT/mask_GTV.nii.gz\n"
     ]
    },
    {
     "name": "stderr",
     "output_type": "stream",
     "text": [
      "Calculating Local Binary Pattern in 2D, but extracting features in 3D. Use with caution!\n"
     ]
    },
    {
     "name": "stdout",
     "output_type": "stream",
     "text": [
      "Processing case  88\n",
      "Scan:  ../../data/nii/HGJ-035/CT/image.nii.gz\n",
      "Mask:  ../../data/nii/HGJ-035/CT/mask_GTV.nii.gz\n"
     ]
    },
    {
     "name": "stderr",
     "output_type": "stream",
     "text": [
      "Calculating Local Binary Pattern in 2D, but extracting features in 3D. Use with caution!\n"
     ]
    },
    {
     "name": "stdout",
     "output_type": "stream",
     "text": [
      "Processing case  89\n",
      "Scan:  ../../data/nii/HGJ-036/CT/image.nii.gz\n",
      "Mask:  ../../data/nii/HGJ-036/CT/mask_GTV.nii.gz\n"
     ]
    },
    {
     "name": "stderr",
     "output_type": "stream",
     "text": [
      "Calculating Local Binary Pattern in 2D, but extracting features in 3D. Use with caution!\n"
     ]
    },
    {
     "name": "stdout",
     "output_type": "stream",
     "text": [
      "Processing case  90\n",
      "Scan:  ../../data/nii/HGJ-037/CT/image.nii.gz\n",
      "Mask:  ../../data/nii/HGJ-037/CT/mask_GTV.nii.gz\n"
     ]
    },
    {
     "name": "stderr",
     "output_type": "stream",
     "text": [
      "Calculating Local Binary Pattern in 2D, but extracting features in 3D. Use with caution!\n"
     ]
    },
    {
     "name": "stdout",
     "output_type": "stream",
     "text": [
      "Processing case  91\n",
      "Scan:  ../../data/nii/HGJ-038/CT/image.nii.gz\n",
      "Mask:  ../../data/nii/HGJ-038/CT/mask_GTV-pet.nii.gz\n"
     ]
    },
    {
     "name": "stderr",
     "output_type": "stream",
     "text": [
      "Calculating Local Binary Pattern in 2D, but extracting features in 3D. Use with caution!\n"
     ]
    },
    {
     "name": "stdout",
     "output_type": "stream",
     "text": [
      "Processing case  92\n",
      "Scan:  ../../data/nii/HGJ-039/CT/image.nii.gz\n",
      "Mask:  ../../data/nii/HGJ-039/CT/mask_GTV-BOT.nii.gz\n"
     ]
    },
    {
     "name": "stderr",
     "output_type": "stream",
     "text": [
      "Calculating Local Binary Pattern in 2D, but extracting features in 3D. Use with caution!\n"
     ]
    },
    {
     "name": "stdout",
     "output_type": "stream",
     "text": [
      "Processing case  93\n",
      "Scan:  ../../data/nii/HGJ-040/CT/image.nii.gz\n",
      "Mask:  ../../data/nii/HGJ-040/CT/mask_GTV.nii.gz\n"
     ]
    },
    {
     "name": "stderr",
     "output_type": "stream",
     "text": [
      "Calculating Local Binary Pattern in 2D, but extracting features in 3D. Use with caution!\n"
     ]
    },
    {
     "name": "stdout",
     "output_type": "stream",
     "text": [
      "Processing case  94\n",
      "Scan:  ../../data/nii/HGJ-041/CT/image.nii.gz\n",
      "Mask:  ../../data/nii/HGJ-041/CT/mask_GTV-67.nii.gz\n"
     ]
    },
    {
     "name": "stderr",
     "output_type": "stream",
     "text": [
      "Calculating Local Binary Pattern in 2D, but extracting features in 3D. Use with caution!\n"
     ]
    },
    {
     "name": "stdout",
     "output_type": "stream",
     "text": [
      "Processing case  95\n",
      "Scan:  ../../data/nii/HGJ-042/CT/image.nii.gz\n",
      "Mask:  ../../data/nii/HGJ-042/CT/mask_GTV.nii.gz\n"
     ]
    },
    {
     "name": "stderr",
     "output_type": "stream",
     "text": [
      "Calculating Local Binary Pattern in 2D, but extracting features in 3D. Use with caution!\n"
     ]
    },
    {
     "name": "stdout",
     "output_type": "stream",
     "text": [
      "Processing case  96\n",
      "Scan:  ../../data/nii/HGJ-043/CT/image.nii.gz\n",
      "Mask:  ../../data/nii/HGJ-043/CT/mask_GTV.nii.gz\n"
     ]
    },
    {
     "name": "stderr",
     "output_type": "stream",
     "text": [
      "Calculating Local Binary Pattern in 2D, but extracting features in 3D. Use with caution!\n"
     ]
    },
    {
     "name": "stdout",
     "output_type": "stream",
     "text": [
      "Processing case  97\n",
      "Scan:  ../../data/nii/HGJ-044/CT/image.nii.gz\n",
      "Mask:  ../../data/nii/HGJ-044/CT/mask_GTV.nii.gz\n"
     ]
    },
    {
     "name": "stderr",
     "output_type": "stream",
     "text": [
      "Calculating Local Binary Pattern in 2D, but extracting features in 3D. Use with caution!\n"
     ]
    },
    {
     "name": "stdout",
     "output_type": "stream",
     "text": [
      "Processing case  98\n",
      "Scan:  ../../data/nii/HGJ-045/CT/image.nii.gz\n",
      "Mask:  ../../data/nii/HGJ-045/CT/mask_GTV.nii.gz\n"
     ]
    },
    {
     "name": "stderr",
     "output_type": "stream",
     "text": [
      "Calculating Local Binary Pattern in 2D, but extracting features in 3D. Use with caution!\n"
     ]
    },
    {
     "name": "stdout",
     "output_type": "stream",
     "text": [
      "Processing case  99\n",
      "Scan:  ../../data/nii/HGJ-046/CT/image.nii.gz\n",
      "Mask:  ../../data/nii/HGJ-046/CT/mask_GTV-675.nii.gz\n"
     ]
    },
    {
     "name": "stderr",
     "output_type": "stream",
     "text": [
      "Calculating Local Binary Pattern in 2D, but extracting features in 3D. Use with caution!\n"
     ]
    },
    {
     "name": "stdout",
     "output_type": "stream",
     "text": [
      "Processing case  100\n",
      "Scan:  ../../data/nii/HGJ-047/CT/image.nii.gz\n",
      "Mask:  ../../data/nii/HGJ-047/CT/mask_GTV-p.nii.gz\n"
     ]
    },
    {
     "name": "stderr",
     "output_type": "stream",
     "text": [
      "Calculating Local Binary Pattern in 2D, but extracting features in 3D. Use with caution!\n"
     ]
    },
    {
     "name": "stdout",
     "output_type": "stream",
     "text": [
      "Processing case  101\n",
      "Scan:  ../../data/nii/HGJ-048/CT/image.nii.gz\n",
      "Mask:  ../../data/nii/HGJ-048/CT/mask_GTV.nii.gz\n"
     ]
    },
    {
     "name": "stderr",
     "output_type": "stream",
     "text": [
      "Calculating Local Binary Pattern in 2D, but extracting features in 3D. Use with caution!\n"
     ]
    },
    {
     "name": "stdout",
     "output_type": "stream",
     "text": [
      "Processing case  102\n",
      "Scan:  ../../data/nii/HGJ-049/CT/image.nii.gz\n",
      "Mask:  ../../data/nii/HGJ-049/CT/mask_GTV.nii.gz\n"
     ]
    },
    {
     "name": "stderr",
     "output_type": "stream",
     "text": [
      "Calculating Local Binary Pattern in 2D, but extracting features in 3D. Use with caution!\n"
     ]
    },
    {
     "name": "stdout",
     "output_type": "stream",
     "text": [
      "Processing case  103\n",
      "Scan:  ../../data/nii/HGJ-050/CT/image.nii.gz\n",
      "Mask:  ../../data/nii/HGJ-050/CT/mask_GTV.nii.gz\n"
     ]
    },
    {
     "name": "stderr",
     "output_type": "stream",
     "text": [
      "Calculating Local Binary Pattern in 2D, but extracting features in 3D. Use with caution!\n"
     ]
    },
    {
     "name": "stdout",
     "output_type": "stream",
     "text": [
      "Processing case  104\n",
      "Scan:  ../../data/nii/HGJ-051/CT/image.nii.gz\n",
      "Mask:  ../../data/nii/HGJ-051/CT/mask_GTV.nii.gz\n"
     ]
    },
    {
     "name": "stderr",
     "output_type": "stream",
     "text": [
      "Calculating Local Binary Pattern in 2D, but extracting features in 3D. Use with caution!\n"
     ]
    },
    {
     "name": "stdout",
     "output_type": "stream",
     "text": [
      "Processing case  105\n",
      "Scan:  ../../data/nii/HGJ-052/CT/image.nii.gz\n",
      "Mask:  ../../data/nii/HGJ-052/CT/mask_GTV.nii.gz\n"
     ]
    },
    {
     "name": "stderr",
     "output_type": "stream",
     "text": [
      "Calculating Local Binary Pattern in 2D, but extracting features in 3D. Use with caution!\n"
     ]
    },
    {
     "name": "stdout",
     "output_type": "stream",
     "text": [
      "Processing case  106\n",
      "Scan:  ../../data/nii/HGJ-053/CT/image.nii.gz\n",
      "Mask:  ../../data/nii/HGJ-053/CT/mask_GTV.nii.gz\n"
     ]
    },
    {
     "name": "stderr",
     "output_type": "stream",
     "text": [
      "Calculating Local Binary Pattern in 2D, but extracting features in 3D. Use with caution!\n"
     ]
    },
    {
     "name": "stdout",
     "output_type": "stream",
     "text": [
      "Processing case  107\n",
      "Scan:  ../../data/nii/HGJ-054/CT/image.nii.gz\n",
      "Mask:  ../../data/nii/HGJ-054/CT/mask_GTV.nii.gz\n"
     ]
    },
    {
     "name": "stderr",
     "output_type": "stream",
     "text": [
      "Calculating Local Binary Pattern in 2D, but extracting features in 3D. Use with caution!\n"
     ]
    },
    {
     "name": "stdout",
     "output_type": "stream",
     "text": [
      "Processing case  108\n",
      "Scan:  ../../data/nii/HGJ-055/CT/image.nii.gz\n",
      "Mask:  ../../data/nii/HGJ-055/CT/mask_GTV.nii.gz\n"
     ]
    },
    {
     "name": "stderr",
     "output_type": "stream",
     "text": [
      "Calculating Local Binary Pattern in 2D, but extracting features in 3D. Use with caution!\n"
     ]
    },
    {
     "name": "stdout",
     "output_type": "stream",
     "text": [
      "Processing case  109\n",
      "Scan:  ../../data/nii/HGJ-056/CT/image.nii.gz\n",
      "Mask:  ../../data/nii/HGJ-056/CT/mask_GTV.nii.gz\n"
     ]
    },
    {
     "name": "stderr",
     "output_type": "stream",
     "text": [
      "Calculating Local Binary Pattern in 2D, but extracting features in 3D. Use with caution!\n"
     ]
    },
    {
     "name": "stdout",
     "output_type": "stream",
     "text": [
      "Processing case  110\n",
      "Scan:  ../../data/nii/HGJ-057/CT/image.nii.gz\n",
      "Mask:  ../../data/nii/HGJ-057/CT/mask_GTV1.nii.gz\n"
     ]
    },
    {
     "name": "stderr",
     "output_type": "stream",
     "text": [
      "Calculating Local Binary Pattern in 2D, but extracting features in 3D. Use with caution!\n"
     ]
    },
    {
     "name": "stdout",
     "output_type": "stream",
     "text": [
      "Processing case  111\n",
      "Scan:  ../../data/nii/HGJ-058/CT/image.nii.gz\n",
      "Mask:  ../../data/nii/HGJ-058/CT/mask_GTV.nii.gz\n"
     ]
    },
    {
     "name": "stderr",
     "output_type": "stream",
     "text": [
      "Calculating Local Binary Pattern in 2D, but extracting features in 3D. Use with caution!\n"
     ]
    },
    {
     "name": "stdout",
     "output_type": "stream",
     "text": [
      "Processing case  112\n",
      "Scan:  ../../data/nii/HGJ-059/CT/image.nii.gz\n",
      "Mask:  ../../data/nii/HGJ-059/CT/mask_GTV-675Gy.nii.gz\n"
     ]
    },
    {
     "name": "stderr",
     "output_type": "stream",
     "text": [
      "Calculating Local Binary Pattern in 2D, but extracting features in 3D. Use with caution!\n"
     ]
    },
    {
     "name": "stdout",
     "output_type": "stream",
     "text": [
      "Processing case  113\n",
      "Scan:  ../../data/nii/HGJ-060/CT/image.nii.gz\n",
      "Mask:  ../../data/nii/HGJ-060/CT/mask_GTV-primary_70GY.nii.gz\n"
     ]
    },
    {
     "name": "stderr",
     "output_type": "stream",
     "text": [
      "Calculating Local Binary Pattern in 2D, but extracting features in 3D. Use with caution!\n"
     ]
    },
    {
     "name": "stdout",
     "output_type": "stream",
     "text": [
      "Processing case  114\n",
      "Scan:  ../../data/nii/HGJ-061/CT/image.nii.gz\n",
      "Mask:  ../../data/nii/HGJ-061/CT/mask_GTV_675gy.nii.gz\n"
     ]
    },
    {
     "name": "stderr",
     "output_type": "stream",
     "text": [
      "Calculating Local Binary Pattern in 2D, but extracting features in 3D. Use with caution!\n"
     ]
    },
    {
     "name": "stdout",
     "output_type": "stream",
     "text": [
      "Processing case  115\n",
      "Scan:  ../../data/nii/HGJ-062/CT/image.nii.gz\n",
      "Mask:  ../../data/nii/HGJ-062/CT/mask_GTV.nii.gz\n"
     ]
    },
    {
     "name": "stderr",
     "output_type": "stream",
     "text": [
      "Calculating Local Binary Pattern in 2D, but extracting features in 3D. Use with caution!\n"
     ]
    },
    {
     "name": "stdout",
     "output_type": "stream",
     "text": [
      "Processing case  116\n",
      "Scan:  ../../data/nii/HGJ-063/CT/image.nii.gz\n",
      "Mask:  ../../data/nii/HGJ-063/CT/mask_GTV_675GY.nii.gz\n"
     ]
    },
    {
     "name": "stderr",
     "output_type": "stream",
     "text": [
      "Calculating Local Binary Pattern in 2D, but extracting features in 3D. Use with caution!\n"
     ]
    },
    {
     "name": "stdout",
     "output_type": "stream",
     "text": [
      "Processing case  117\n",
      "Scan:  ../../data/nii/HGJ-064/CT/image.nii.gz\n",
      "Mask:  ../../data/nii/HGJ-064/CT/mask_GTV_675GY.nii.gz\n"
     ]
    },
    {
     "name": "stderr",
     "output_type": "stream",
     "text": [
      "Calculating Local Binary Pattern in 2D, but extracting features in 3D. Use with caution!\n"
     ]
    },
    {
     "name": "stdout",
     "output_type": "stream",
     "text": [
      "Processing case  118\n",
      "Scan:  ../../data/nii/HGJ-065/CT/image.nii.gz\n",
      "Mask:  ../../data/nii/HGJ-065/CT/mask_GTV_675GY.nii.gz\n"
     ]
    },
    {
     "name": "stderr",
     "output_type": "stream",
     "text": [
      "Calculating Local Binary Pattern in 2D, but extracting features in 3D. Use with caution!\n"
     ]
    },
    {
     "name": "stdout",
     "output_type": "stream",
     "text": [
      "Processing case  119\n",
      "Scan:  ../../data/nii/HGJ-066/CT/image.nii.gz\n",
      "Mask:  ../../data/nii/HGJ-066/CT/mask_GTV_675GY.nii.gz\n"
     ]
    },
    {
     "name": "stderr",
     "output_type": "stream",
     "text": [
      "Calculating Local Binary Pattern in 2D, but extracting features in 3D. Use with caution!\n"
     ]
    },
    {
     "name": "stdout",
     "output_type": "stream",
     "text": [
      "Processing case  120\n",
      "Scan:  ../../data/nii/HGJ-067/CT/image.nii.gz\n",
      "Mask:  ../../data/nii/HGJ-067/CT/mask_GTV_675gy.nii.gz\n"
     ]
    },
    {
     "name": "stderr",
     "output_type": "stream",
     "text": [
      "Calculating Local Binary Pattern in 2D, but extracting features in 3D. Use with caution!\n"
     ]
    },
    {
     "name": "stdout",
     "output_type": "stream",
     "text": [
      "Processing case  121\n",
      "Scan:  ../../data/nii/HGJ-069/CT/image.nii.gz\n",
      "Mask:  ../../data/nii/HGJ-069/CT/mask_GTV_675Gy.nii.gz\n"
     ]
    },
    {
     "name": "stderr",
     "output_type": "stream",
     "text": [
      "Calculating Local Binary Pattern in 2D, but extracting features in 3D. Use with caution!\n"
     ]
    },
    {
     "name": "stdout",
     "output_type": "stream",
     "text": [
      "Processing case  122\n",
      "Scan:  ../../data/nii/HGJ-070/CT/image.nii.gz\n",
      "Mask:  ../../data/nii/HGJ-070/CT/mask_GTV_675gy.nii.gz\n"
     ]
    },
    {
     "name": "stderr",
     "output_type": "stream",
     "text": [
      "Calculating Local Binary Pattern in 2D, but extracting features in 3D. Use with caution!\n"
     ]
    },
    {
     "name": "stdout",
     "output_type": "stream",
     "text": [
      "Processing case  123\n",
      "Scan:  ../../data/nii/HGJ-071/CT/image.nii.gz\n",
      "Mask:  ../../data/nii/HGJ-071/CT/mask_GTV_675GY.nii.gz\n"
     ]
    },
    {
     "name": "stderr",
     "output_type": "stream",
     "text": [
      "Calculating Local Binary Pattern in 2D, but extracting features in 3D. Use with caution!\n"
     ]
    },
    {
     "name": "stdout",
     "output_type": "stream",
     "text": [
      "Processing case  124\n",
      "Scan:  ../../data/nii/HGJ-072/CT/image.nii.gz\n",
      "Mask:  ../../data/nii/HGJ-072/CT/mask_GTV_675gy.nii.gz\n"
     ]
    },
    {
     "name": "stderr",
     "output_type": "stream",
     "text": [
      "Calculating Local Binary Pattern in 2D, but extracting features in 3D. Use with caution!\n"
     ]
    },
    {
     "name": "stdout",
     "output_type": "stream",
     "text": [
      "Processing case  125\n",
      "Scan:  ../../data/nii/HGJ-073/CT/image.nii.gz\n",
      "Mask:  ../../data/nii/HGJ-073/CT/mask_GTV_675gy.nii.gz\n"
     ]
    },
    {
     "name": "stderr",
     "output_type": "stream",
     "text": [
      "Calculating Local Binary Pattern in 2D, but extracting features in 3D. Use with caution!\n"
     ]
    },
    {
     "name": "stdout",
     "output_type": "stream",
     "text": [
      "Processing case  126\n",
      "Scan:  ../../data/nii/HGJ-074/CT/image.nii.gz\n",
      "Mask:  ../../data/nii/HGJ-074/CT/mask_GTV_675GY.nii.gz\n"
     ]
    },
    {
     "name": "stderr",
     "output_type": "stream",
     "text": [
      "Calculating Local Binary Pattern in 2D, but extracting features in 3D. Use with caution!\n"
     ]
    },
    {
     "name": "stdout",
     "output_type": "stream",
     "text": [
      "Processing case  127\n",
      "Scan:  ../../data/nii/HGJ-075/CT/image.nii.gz\n",
      "Mask:  ../../data/nii/HGJ-075/CT/mask_GTV_70Gy.nii.gz\n"
     ]
    },
    {
     "name": "stderr",
     "output_type": "stream",
     "text": [
      "Calculating Local Binary Pattern in 2D, but extracting features in 3D. Use with caution!\n"
     ]
    },
    {
     "name": "stdout",
     "output_type": "stream",
     "text": [
      "Processing case  128\n",
      "Scan:  ../../data/nii/HGJ-076/CT/image.nii.gz\n",
      "Mask:  ../../data/nii/HGJ-076/CT/mask_GTV_T_675gy.nii.gz\n"
     ]
    },
    {
     "name": "stderr",
     "output_type": "stream",
     "text": [
      "Calculating Local Binary Pattern in 2D, but extracting features in 3D. Use with caution!\n"
     ]
    },
    {
     "name": "stdout",
     "output_type": "stream",
     "text": [
      "Processing case  129\n",
      "Scan:  ../../data/nii/HGJ-077/CT/image.nii.gz\n",
      "Mask:  ../../data/nii/HGJ-077/CT/mask_GTV_675.nii.gz\n"
     ]
    },
    {
     "name": "stderr",
     "output_type": "stream",
     "text": [
      "Calculating Local Binary Pattern in 2D, but extracting features in 3D. Use with caution!\n"
     ]
    },
    {
     "name": "stdout",
     "output_type": "stream",
     "text": [
      "Processing case  130\n",
      "Scan:  ../../data/nii/HGJ-078/CT/image.nii.gz\n",
      "Mask:  ../../data/nii/HGJ-078/CT/mask_GTV_675.nii.gz\n"
     ]
    },
    {
     "name": "stderr",
     "output_type": "stream",
     "text": [
      "Calculating Local Binary Pattern in 2D, but extracting features in 3D. Use with caution!\n"
     ]
    },
    {
     "name": "stdout",
     "output_type": "stream",
     "text": [
      "Processing case  131\n",
      "Scan:  ../../data/nii/HGJ-079/CT/image.nii.gz\n",
      "Mask:  ../../data/nii/HGJ-079/CT/mask_GTV_70GY.nii.gz\n"
     ]
    },
    {
     "name": "stderr",
     "output_type": "stream",
     "text": [
      "Calculating Local Binary Pattern in 2D, but extracting features in 3D. Use with caution!\n"
     ]
    },
    {
     "name": "stdout",
     "output_type": "stream",
     "text": [
      "Processing case  132\n",
      "Scan:  ../../data/nii/HGJ-080/CT/image.nii.gz\n",
      "Mask:  ../../data/nii/HGJ-080/CT/mask_GTV.nii.gz\n"
     ]
    },
    {
     "name": "stderr",
     "output_type": "stream",
     "text": [
      "Calculating Local Binary Pattern in 2D, but extracting features in 3D. Use with caution!\n"
     ]
    },
    {
     "name": "stdout",
     "output_type": "stream",
     "text": [
      "Processing case  133\n",
      "Scan:  ../../data/nii/HGJ-081/CT/image.nii.gz\n",
      "Mask:  ../../data/nii/HGJ-081/CT/mask_GTV_675Gy.nii.gz\n"
     ]
    },
    {
     "name": "stderr",
     "output_type": "stream",
     "text": [
      "Calculating Local Binary Pattern in 2D, but extracting features in 3D. Use with caution!\n"
     ]
    },
    {
     "name": "stdout",
     "output_type": "stream",
     "text": [
      "Processing case  134\n",
      "Scan:  ../../data/nii/HGJ-082/CT/image.nii.gz\n",
      "Mask:  ../../data/nii/HGJ-082/CT/mask_GTV_70gy.nii.gz\n"
     ]
    },
    {
     "name": "stderr",
     "output_type": "stream",
     "text": [
      "Calculating Local Binary Pattern in 2D, but extracting features in 3D. Use with caution!\n"
     ]
    },
    {
     "name": "stdout",
     "output_type": "stream",
     "text": [
      "Processing case  135\n",
      "Scan:  ../../data/nii/HGJ-083/CT/image.nii.gz\n",
      "Mask:  ../../data/nii/HGJ-083/CT/mask_GTV_675GY.nii.gz\n"
     ]
    },
    {
     "name": "stderr",
     "output_type": "stream",
     "text": [
      "Calculating Local Binary Pattern in 2D, but extracting features in 3D. Use with caution!\n"
     ]
    },
    {
     "name": "stdout",
     "output_type": "stream",
     "text": [
      "Processing case  136\n",
      "Scan:  ../../data/nii/HGJ-084/CT/image.nii.gz\n",
      "Mask:  ../../data/nii/HGJ-084/CT/mask_GTV_675GY.nii.gz\n"
     ]
    },
    {
     "name": "stderr",
     "output_type": "stream",
     "text": [
      "Calculating Local Binary Pattern in 2D, but extracting features in 3D. Use with caution!\n"
     ]
    },
    {
     "name": "stdout",
     "output_type": "stream",
     "text": [
      "Processing case  137\n",
      "Scan:  ../../data/nii/HGJ-085/CT/image.nii.gz\n",
      "Mask:  ../../data/nii/HGJ-085/CT/mask_GTV_69Gy.nii.gz\n"
     ]
    },
    {
     "name": "stderr",
     "output_type": "stream",
     "text": [
      "Calculating Local Binary Pattern in 2D, but extracting features in 3D. Use with caution!\n"
     ]
    },
    {
     "name": "stdout",
     "output_type": "stream",
     "text": [
      "Processing case  138\n",
      "Scan:  ../../data/nii/HGJ-086/CT/image.nii.gz\n",
      "Mask:  ../../data/nii/HGJ-086/CT/mask_GTV_675gy.nii.gz\n"
     ]
    },
    {
     "name": "stderr",
     "output_type": "stream",
     "text": [
      "Calculating Local Binary Pattern in 2D, but extracting features in 3D. Use with caution!\n"
     ]
    },
    {
     "name": "stdout",
     "output_type": "stream",
     "text": [
      "Processing case  139\n",
      "Scan:  ../../data/nii/HGJ-087/CT/image.nii.gz\n",
      "Mask:  ../../data/nii/HGJ-087/CT/mask_GTV_675Gy.nii.gz\n"
     ]
    },
    {
     "name": "stderr",
     "output_type": "stream",
     "text": [
      "Calculating Local Binary Pattern in 2D, but extracting features in 3D. Use with caution!\n"
     ]
    },
    {
     "name": "stdout",
     "output_type": "stream",
     "text": [
      "Processing case  140\n",
      "Scan:  ../../data/nii/HGJ-088/CT/image.nii.gz\n",
      "Mask:  ../../data/nii/HGJ-088/CT/mask_GTV_675GY.nii.gz\n"
     ]
    },
    {
     "name": "stderr",
     "output_type": "stream",
     "text": [
      "Calculating Local Binary Pattern in 2D, but extracting features in 3D. Use with caution!\n"
     ]
    },
    {
     "name": "stdout",
     "output_type": "stream",
     "text": [
      "Processing case  141\n",
      "Scan:  ../../data/nii/HGJ-089/CT/image.nii.gz\n",
      "Mask:  ../../data/nii/HGJ-089/CT/mask_GTV_675GY.nii.gz\n"
     ]
    },
    {
     "name": "stderr",
     "output_type": "stream",
     "text": [
      "Calculating Local Binary Pattern in 2D, but extracting features in 3D. Use with caution!\n"
     ]
    },
    {
     "name": "stdout",
     "output_type": "stream",
     "text": [
      "Processing case  142\n",
      "Scan:  ../../data/nii/HGJ-090/CT/image.nii.gz\n",
      "Mask:  ../../data/nii/HGJ-090/CT/mask_GTV_675Gy.nii.gz\n"
     ]
    },
    {
     "name": "stderr",
     "output_type": "stream",
     "text": [
      "Calculating Local Binary Pattern in 2D, but extracting features in 3D. Use with caution!\n"
     ]
    },
    {
     "name": "stdout",
     "output_type": "stream",
     "text": [
      "Processing case  143\n",
      "Scan:  ../../data/nii/HGJ-091/CT/image.nii.gz\n",
      "Mask:  ../../data/nii/HGJ-091/CT/mask_GTV_675GY.nii.gz\n"
     ]
    },
    {
     "name": "stderr",
     "output_type": "stream",
     "text": [
      "Calculating Local Binary Pattern in 2D, but extracting features in 3D. Use with caution!\n"
     ]
    },
    {
     "name": "stdout",
     "output_type": "stream",
     "text": [
      "Processing case  144\n",
      "Scan:  ../../data/nii/HGJ-092/CT/image.nii.gz\n",
      "Mask:  ../../data/nii/HGJ-092/CT/mask_GTV_675GY.nii.gz\n"
     ]
    },
    {
     "name": "stderr",
     "output_type": "stream",
     "text": [
      "Calculating Local Binary Pattern in 2D, but extracting features in 3D. Use with caution!\n"
     ]
    },
    {
     "name": "stdout",
     "output_type": "stream",
     "text": [
      "Processing case  145\n",
      "Scan:  ../../data/nii/HMR-001/CT/image.nii.gz\n",
      "Mask:  ../../data/nii/HMR-001/CT/mask_GTVt.nii.gz\n"
     ]
    },
    {
     "name": "stderr",
     "output_type": "stream",
     "text": [
      "Calculating Local Binary Pattern in 2D, but extracting features in 3D. Use with caution!\n"
     ]
    },
    {
     "name": "stdout",
     "output_type": "stream",
     "text": [
      "Processing case  146\n",
      "Scan:  ../../data/nii/HMR-002/CT/image.nii.gz\n",
      "Mask:  ../../data/nii/HMR-002/CT/mask_GTVt.nii.gz\n"
     ]
    },
    {
     "name": "stderr",
     "output_type": "stream",
     "text": [
      "Calculating Local Binary Pattern in 2D, but extracting features in 3D. Use with caution!\n"
     ]
    },
    {
     "name": "stdout",
     "output_type": "stream",
     "text": [
      "Processing case  147\n",
      "Scan:  ../../data/nii/HMR-003/CT/image.nii.gz\n",
      "Mask:  ../../data/nii/HMR-003/CT/mask_GTV-primaire.nii.gz\n"
     ]
    },
    {
     "name": "stderr",
     "output_type": "stream",
     "text": [
      "Calculating Local Binary Pattern in 2D, but extracting features in 3D. Use with caution!\n"
     ]
    },
    {
     "name": "stdout",
     "output_type": "stream",
     "text": [
      "Processing case  148\n",
      "Scan:  ../../data/nii/HMR-004/CT/image.nii.gz\n",
      "Mask:  ../../data/nii/HMR-004/CT/mask_GTV-primaire.nii.gz\n"
     ]
    },
    {
     "name": "stderr",
     "output_type": "stream",
     "text": [
      "Calculating Local Binary Pattern in 2D, but extracting features in 3D. Use with caution!\n"
     ]
    },
    {
     "name": "stdout",
     "output_type": "stream",
     "text": [
      "Processing case  149\n",
      "Scan:  ../../data/nii/HMR-005/CT/image.nii.gz\n",
      "Mask:  ../../data/nii/HMR-005/CT/mask_GTV-primaire.nii.gz\n"
     ]
    },
    {
     "name": "stderr",
     "output_type": "stream",
     "text": [
      "Calculating Local Binary Pattern in 2D, but extracting features in 3D. Use with caution!\n"
     ]
    },
    {
     "name": "stdout",
     "output_type": "stream",
     "text": [
      "Processing case  150\n",
      "Scan:  ../../data/nii/HMR-006/CT/image.nii.gz\n",
      "Mask:  ../../data/nii/HMR-006/CT/mask_GTVt.nii.gz\n"
     ]
    },
    {
     "name": "stderr",
     "output_type": "stream",
     "text": [
      "Calculating Local Binary Pattern in 2D, but extracting features in 3D. Use with caution!\n"
     ]
    },
    {
     "name": "stdout",
     "output_type": "stream",
     "text": [
      "Processing case  151\n",
      "Scan:  ../../data/nii/HMR-007/CT/image.nii.gz\n",
      "Mask:  ../../data/nii/HMR-007/CT/mask_GTV-primaire.nii.gz\n"
     ]
    },
    {
     "name": "stderr",
     "output_type": "stream",
     "text": [
      "Calculating Local Binary Pattern in 2D, but extracting features in 3D. Use with caution!\n"
     ]
    },
    {
     "name": "stdout",
     "output_type": "stream",
     "text": [
      "Processing case  152\n",
      "Scan:  ../../data/nii/HMR-008/CT/image.nii.gz\n",
      "Mask:  ../../data/nii/HMR-008/CT/mask_GTV-primaire.nii.gz\n"
     ]
    },
    {
     "name": "stderr",
     "output_type": "stream",
     "text": [
      "Calculating Local Binary Pattern in 2D, but extracting features in 3D. Use with caution!\n"
     ]
    },
    {
     "name": "stdout",
     "output_type": "stream",
     "text": [
      "Processing case  153\n",
      "Scan:  ../../data/nii/HMR-009/CT/image.nii.gz\n",
      "Mask:  ../../data/nii/HMR-009/CT/mask_GTV.nii.gz\n"
     ]
    },
    {
     "name": "stderr",
     "output_type": "stream",
     "text": [
      "Calculating Local Binary Pattern in 2D, but extracting features in 3D. Use with caution!\n"
     ]
    },
    {
     "name": "stdout",
     "output_type": "stream",
     "text": [
      "Processing case  154\n",
      "Scan:  ../../data/nii/HMR-010/CT/image.nii.gz\n",
      "Mask:  ../../data/nii/HMR-010/CT/mask_GTV-primaire.nii.gz\n"
     ]
    },
    {
     "name": "stderr",
     "output_type": "stream",
     "text": [
      "Calculating Local Binary Pattern in 2D, but extracting features in 3D. Use with caution!\n"
     ]
    },
    {
     "name": "stdout",
     "output_type": "stream",
     "text": [
      "Processing case  155\n",
      "Scan:  ../../data/nii/HMR-011/CT/image.nii.gz\n",
      "Mask:  ../../data/nii/HMR-011/CT/mask_GTV.nii.gz\n"
     ]
    },
    {
     "name": "stderr",
     "output_type": "stream",
     "text": [
      "Calculating Local Binary Pattern in 2D, but extracting features in 3D. Use with caution!\n"
     ]
    },
    {
     "name": "stdout",
     "output_type": "stream",
     "text": [
      "Processing case  156\n",
      "Scan:  ../../data/nii/HMR-013/CT/image.nii.gz\n",
      "Mask:  ../../data/nii/HMR-013/CT/mask_GTV-primaire.nii.gz\n"
     ]
    },
    {
     "name": "stderr",
     "output_type": "stream",
     "text": [
      "Calculating Local Binary Pattern in 2D, but extracting features in 3D. Use with caution!\n"
     ]
    },
    {
     "name": "stdout",
     "output_type": "stream",
     "text": [
      "Processing case  157\n",
      "Scan:  ../../data/nii/HMR-014/CT/image.nii.gz\n",
      "Mask:  ../../data/nii/HMR-014/CT/mask_GTV-primaire.nii.gz\n"
     ]
    },
    {
     "name": "stderr",
     "output_type": "stream",
     "text": [
      "Calculating Local Binary Pattern in 2D, but extracting features in 3D. Use with caution!\n"
     ]
    },
    {
     "name": "stdout",
     "output_type": "stream",
     "text": [
      "Processing case  158\n",
      "Scan:  ../../data/nii/HMR-015/CT/image.nii.gz\n",
      "Mask:  ../../data/nii/HMR-015/CT/mask_GTV-primaire.nii.gz\n"
     ]
    },
    {
     "name": "stderr",
     "output_type": "stream",
     "text": [
      "Calculating Local Binary Pattern in 2D, but extracting features in 3D. Use with caution!\n"
     ]
    },
    {
     "name": "stdout",
     "output_type": "stream",
     "text": [
      "Processing case  159\n",
      "Scan:  ../../data/nii/HMR-016/CT/image.nii.gz\n",
      "Mask:  ../../data/nii/HMR-016/CT/mask_GTV-primaire.nii.gz\n"
     ]
    },
    {
     "name": "stderr",
     "output_type": "stream",
     "text": [
      "Calculating Local Binary Pattern in 2D, but extracting features in 3D. Use with caution!\n"
     ]
    },
    {
     "name": "stdout",
     "output_type": "stream",
     "text": [
      "Processing case  160\n",
      "Scan:  ../../data/nii/HMR-017/CT/image.nii.gz\n",
      "Mask:  ../../data/nii/HMR-017/CT/mask_GTV-primaire.nii.gz\n"
     ]
    },
    {
     "name": "stderr",
     "output_type": "stream",
     "text": [
      "Calculating Local Binary Pattern in 2D, but extracting features in 3D. Use with caution!\n"
     ]
    },
    {
     "name": "stdout",
     "output_type": "stream",
     "text": [
      "Processing case  161\n",
      "Scan:  ../../data/nii/HMR-018/CT/image.nii.gz\n",
      "Mask:  ../../data/nii/HMR-018/CT/mask_GTV-primaire.nii.gz\n"
     ]
    },
    {
     "name": "stderr",
     "output_type": "stream",
     "text": [
      "Calculating Local Binary Pattern in 2D, but extracting features in 3D. Use with caution!\n"
     ]
    },
    {
     "name": "stdout",
     "output_type": "stream",
     "text": [
      "Processing case  162\n",
      "Scan:  ../../data/nii/HMR-019/CT/image.nii.gz\n",
      "Mask:  ../../data/nii/HMR-019/CT/mask_GTV-primaire.nii.gz\n"
     ]
    },
    {
     "name": "stderr",
     "output_type": "stream",
     "text": [
      "Calculating Local Binary Pattern in 2D, but extracting features in 3D. Use with caution!\n"
     ]
    },
    {
     "name": "stdout",
     "output_type": "stream",
     "text": [
      "Processing case  163\n",
      "Scan:  ../../data/nii/HMR-020/CT/image.nii.gz\n",
      "Mask:  ../../data/nii/HMR-020/CT/mask_GTV-primaire.nii.gz\n"
     ]
    },
    {
     "name": "stderr",
     "output_type": "stream",
     "text": [
      "Calculating Local Binary Pattern in 2D, but extracting features in 3D. Use with caution!\n"
     ]
    },
    {
     "name": "stdout",
     "output_type": "stream",
     "text": [
      "Processing case  164\n",
      "Scan:  ../../data/nii/HMR-021/CT/image.nii.gz\n",
      "Mask:  ../../data/nii/HMR-021/CT/mask_GTV-primaire.nii.gz\n"
     ]
    },
    {
     "name": "stderr",
     "output_type": "stream",
     "text": [
      "Calculating Local Binary Pattern in 2D, but extracting features in 3D. Use with caution!\n"
     ]
    },
    {
     "name": "stdout",
     "output_type": "stream",
     "text": [
      "Processing case  165\n",
      "Scan:  ../../data/nii/HMR-022/CT/image.nii.gz\n",
      "Mask:  ../../data/nii/HMR-022/CT/mask_GTV-primaire.nii.gz\n"
     ]
    },
    {
     "name": "stderr",
     "output_type": "stream",
     "text": [
      "Calculating Local Binary Pattern in 2D, but extracting features in 3D. Use with caution!\n"
     ]
    },
    {
     "name": "stdout",
     "output_type": "stream",
     "text": [
      "Processing case  166\n",
      "Scan:  ../../data/nii/HMR-023/CT/image.nii.gz\n",
      "Mask:  ../../data/nii/HMR-023/CT/mask_GTV-primaire.nii.gz\n"
     ]
    },
    {
     "name": "stderr",
     "output_type": "stream",
     "text": [
      "Calculating Local Binary Pattern in 2D, but extracting features in 3D. Use with caution!\n"
     ]
    },
    {
     "name": "stdout",
     "output_type": "stream",
     "text": [
      "Processing case  167\n",
      "Scan:  ../../data/nii/HMR-024/CT/image.nii.gz\n",
      "Mask:  ../../data/nii/HMR-024/CT/mask_GTV-primaire.nii.gz\n"
     ]
    },
    {
     "name": "stderr",
     "output_type": "stream",
     "text": [
      "Calculating Local Binary Pattern in 2D, but extracting features in 3D. Use with caution!\n"
     ]
    },
    {
     "name": "stdout",
     "output_type": "stream",
     "text": [
      "Processing case  168\n",
      "Scan:  ../../data/nii/HMR-025/CT/image.nii.gz\n",
      "Mask:  ../../data/nii/HMR-025/CT/mask_GTV-primaire.nii.gz\n"
     ]
    },
    {
     "name": "stderr",
     "output_type": "stream",
     "text": [
      "Calculating Local Binary Pattern in 2D, but extracting features in 3D. Use with caution!\n"
     ]
    },
    {
     "name": "stdout",
     "output_type": "stream",
     "text": [
      "Processing case  169\n",
      "Scan:  ../../data/nii/HMR-026/CT/image.nii.gz\n",
      "Mask:  ../../data/nii/HMR-026/CT/mask_GTV-p.nii.gz\n"
     ]
    },
    {
     "name": "stderr",
     "output_type": "stream",
     "text": [
      "Calculating Local Binary Pattern in 2D, but extracting features in 3D. Use with caution!\n"
     ]
    },
    {
     "name": "stdout",
     "output_type": "stream",
     "text": [
      "Processing case  170\n",
      "Scan:  ../../data/nii/HMR-027/CT/image.nii.gz\n",
      "Mask:  ../../data/nii/HMR-027/CT/mask_GTV-primaire.nii.gz\n"
     ]
    },
    {
     "name": "stderr",
     "output_type": "stream",
     "text": [
      "Calculating Local Binary Pattern in 2D, but extracting features in 3D. Use with caution!\n"
     ]
    },
    {
     "name": "stdout",
     "output_type": "stream",
     "text": [
      "Processing case  171\n",
      "Scan:  ../../data/nii/HMR-029/CT/image.nii.gz\n",
      "Mask:  ../../data/nii/HMR-029/CT/mask_GTV-primaire.nii.gz\n"
     ]
    },
    {
     "name": "stderr",
     "output_type": "stream",
     "text": [
      "Calculating Local Binary Pattern in 2D, but extracting features in 3D. Use with caution!\n"
     ]
    },
    {
     "name": "stdout",
     "output_type": "stream",
     "text": [
      "Processing case  172\n",
      "Scan:  ../../data/nii/HMR-030/CT/image.nii.gz\n",
      "Mask:  ../../data/nii/HMR-030/CT/mask_GTV-primaire.nii.gz\n"
     ]
    },
    {
     "name": "stderr",
     "output_type": "stream",
     "text": [
      "Calculating Local Binary Pattern in 2D, but extracting features in 3D. Use with caution!\n"
     ]
    },
    {
     "name": "stdout",
     "output_type": "stream",
     "text": [
      "Processing case  173\n",
      "Scan:  ../../data/nii/HMR-031/CT/image.nii.gz\n",
      "Mask:  ../../data/nii/HMR-031/CT/mask_GTV-primaire.nii.gz\n"
     ]
    },
    {
     "name": "stderr",
     "output_type": "stream",
     "text": [
      "Calculating Local Binary Pattern in 2D, but extracting features in 3D. Use with caution!\n"
     ]
    },
    {
     "name": "stdout",
     "output_type": "stream",
     "text": [
      "Processing case  174\n",
      "Scan:  ../../data/nii/HMR-033/CT/image.nii.gz\n",
      "Mask:  ../../data/nii/HMR-033/CT/mask_GTV-primaire.nii.gz\n"
     ]
    },
    {
     "name": "stderr",
     "output_type": "stream",
     "text": [
      "Calculating Local Binary Pattern in 2D, but extracting features in 3D. Use with caution!\n"
     ]
    },
    {
     "name": "stdout",
     "output_type": "stream",
     "text": [
      "Processing case  175\n",
      "Scan:  ../../data/nii/HMR-034/CT/image.nii.gz\n",
      "Mask:  ../../data/nii/HMR-034/CT/mask_GTV-primaire.nii.gz\n"
     ]
    },
    {
     "name": "stderr",
     "output_type": "stream",
     "text": [
      "Calculating Local Binary Pattern in 2D, but extracting features in 3D. Use with caution!\n"
     ]
    },
    {
     "name": "stdout",
     "output_type": "stream",
     "text": [
      "Processing case  176\n",
      "Scan:  ../../data/nii/HMR-035/CT/image.nii.gz\n",
      "Mask:  ../../data/nii/HMR-035/CT/mask_GTV-Primaire-70.nii.gz\n"
     ]
    },
    {
     "name": "stderr",
     "output_type": "stream",
     "text": [
      "Calculating Local Binary Pattern in 2D, but extracting features in 3D. Use with caution!\n"
     ]
    },
    {
     "name": "stdout",
     "output_type": "stream",
     "text": [
      "Processing case  177\n",
      "Scan:  ../../data/nii/HMR-036/CT/image.nii.gz\n",
      "Mask:  ../../data/nii/HMR-036/CT/mask_GTV-primaire.nii.gz\n"
     ]
    },
    {
     "name": "stderr",
     "output_type": "stream",
     "text": [
      "Calculating Local Binary Pattern in 2D, but extracting features in 3D. Use with caution!\n"
     ]
    },
    {
     "name": "stdout",
     "output_type": "stream",
     "text": [
      "Processing case  178\n",
      "Scan:  ../../data/nii/HMR-037/CT/image.nii.gz\n",
      "Mask:  ../../data/nii/HMR-037/CT/mask_GTV-T-irm.nii.gz\n"
     ]
    },
    {
     "name": "stderr",
     "output_type": "stream",
     "text": [
      "Calculating Local Binary Pattern in 2D, but extracting features in 3D. Use with caution!\n"
     ]
    },
    {
     "name": "stdout",
     "output_type": "stream",
     "text": [
      "Processing case  179\n",
      "Scan:  ../../data/nii/HMR-038/CT/image.nii.gz\n",
      "Mask:  ../../data/nii/HMR-038/CT/mask_GTVt.nii.gz\n"
     ]
    },
    {
     "name": "stderr",
     "output_type": "stream",
     "text": [
      "Calculating Local Binary Pattern in 2D, but extracting features in 3D. Use with caution!\n"
     ]
    },
    {
     "name": "stdout",
     "output_type": "stream",
     "text": [
      "Processing case  180\n",
      "Scan:  ../../data/nii/HMR-039/CT/image.nii.gz\n",
      "Mask:  ../../data/nii/HMR-039/CT/mask_GTV.nii.gz\n"
     ]
    },
    {
     "name": "stderr",
     "output_type": "stream",
     "text": [
      "Calculating Local Binary Pattern in 2D, but extracting features in 3D. Use with caution!\n"
     ]
    },
    {
     "name": "stdout",
     "output_type": "stream",
     "text": [
      "Processing case  181\n",
      "Scan:  ../../data/nii/HMR-040/CT/image.nii.gz\n",
      "Mask:  ../../data/nii/HMR-040/CT/mask_GTV.nii.gz\n"
     ]
    },
    {
     "name": "stderr",
     "output_type": "stream",
     "text": [
      "Calculating Local Binary Pattern in 2D, but extracting features in 3D. Use with caution!\n"
     ]
    },
    {
     "name": "stdout",
     "output_type": "stream",
     "text": [
      "Processing case  182\n",
      "Scan:  ../../data/nii/HMR-041/CT/image.nii.gz\n",
      "Mask:  ../../data/nii/HMR-041/CT/mask_GTV.nii.gz\n"
     ]
    },
    {
     "name": "stderr",
     "output_type": "stream",
     "text": [
      "Calculating Local Binary Pattern in 2D, but extracting features in 3D. Use with caution!\n"
     ]
    },
    {
     "name": "stdout",
     "output_type": "stream",
     "text": [
      "Done processing. Writing to file...\n",
      "Done!\n"
     ]
    }
   ],
   "source": [
    "a = pd.read_csv('tumours_info_nii.csv')\n",
    "dataPath = '../../data/nii/'\n",
    "\n",
    "def f_extraction():\n",
    "    # create the extractor just once outside of the loop to maybe safe processing time\n",
    "    paramPath = '../../data/Params/Params2.yaml'\n",
    "    extractor = featureextractor.RadiomicsFeatureExtractor(paramPath)\n",
    "    \n",
    "    # list to store the results\n",
    "    results = []\n",
    "    for ind in a.index:\n",
    "        print(\"Processing case \", ind)\n",
    "        scanPath = dataPath + a['Path'][ind]+ '/'+ a['Scan'][ind]\n",
    "        maskPath = dataPath + a['Path'][ind]+ '/'+ a['GTV Primary'][ind]\n",
    "        patient = a['Patient'][ind]\n",
    "        print(\"Scan: \", scanPath)\n",
    "        print(\"Mask: \", maskPath)\n",
    "        # identify the patient  \n",
    "        feature_vector = OrderedDict([('Patient', patient)])\n",
    "        # add the features\n",
    "        feature_vector.update(extractor.execute(scanPath, maskPath))\n",
    "        # append to results list\n",
    "        results.append(feature_vector)\n",
    "            \n",
    "        mask2 = a['GTV Primary 2'][ind]\n",
    "        if mask2 == '-':\n",
    "            pass\n",
    "        else:\n",
    "            #scanPath = dataPath + a['Path'][ind]+ '/'+ a['Scan'][ind]\n",
    "            maskPath2 = dataPath + a['Path'][ind]+ '/'+ a['GTV Primary 2'][ind]\n",
    "            patient = a['Patient'][ind]\n",
    "            #print(\"Scan: \", scanPath)\n",
    "            print(\"Mask2: \", maskPath)\n",
    "            # identify the patient  \n",
    "            feature_vector = OrderedDict([('Patient', patient)])\n",
    "            # add the features\n",
    "            feature_vector.update(extractor.execute(scanPath, maskPath2))\n",
    "            # append to results list\n",
    "            results.append(feature_vector)\n",
    "                \n",
    "\n",
    "    print(\"Done processing. Writing to file...\")\n",
    "    # initialize the dataframe with the first result\n",
    "    data_frame = pd.DataFrame.from_dict(results[0], orient=\"index\")\n",
    "    \n",
    "    # iterate over the remaining results\n",
    "    for idx, dict in enumerate(results):\n",
    "        if idx == 0:\n",
    "            continue\n",
    "        df = pd.DataFrame.from_dict(dict, orient=\"index\")\n",
    "        data_frame = pd.concat([data_frame, df], axis=1)\n",
    "        data_frame_T = data_frame.T\n",
    "    data_frame_T.to_csv('All_Filters_Features.csv', index=False)\n",
    "    print(\"Done!\")\n",
    "            \n",
    "f_extraction()\n",
    "\n",
    "#test: if ind <5 or 8<ind<22 :\n",
    "#train: if ind>21 :"
   ]
  },
  {
   "cell_type": "markdown",
   "metadata": {},
   "source": []
  }
 ],
 "metadata": {
  "kernelspec": {
   "display_name": "Python 3",
   "language": "python",
   "name": "python3"
  },
  "language_info": {
   "codemirror_mode": {
    "name": "ipython",
    "version": 3
   },
   "file_extension": ".py",
   "mimetype": "text/x-python",
   "name": "python",
   "nbconvert_exporter": "python",
   "pygments_lexer": "ipython3",
   "version": "3.7.7"
  }
 },
 "nbformat": 4,
 "nbformat_minor": 4
}
