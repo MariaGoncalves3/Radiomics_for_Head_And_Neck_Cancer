{
 "cells": [
  {
   "cell_type": "code",
   "execution_count": 1,
   "metadata": {},
   "outputs": [],
   "source": [
    "import pandas as pd"
   ]
  },
  {
   "cell_type": "code",
   "execution_count": 2,
   "metadata": {},
   "outputs": [],
   "source": [
    "DM_test = pd.read_csv('Features_Clean_Normalized_DM_test.csv')\n",
    "DM_train = pd.read_csv('Features_Clean_Normalized_DM_train.csv')\n",
    "Feat_Imp= pd.read_csv('DM_XGBoost_gridSearch_FeatureImportance.csv')\n"
   ]
  },
  {
   "cell_type": "code",
   "execution_count": 37,
   "metadata": {},
   "outputs": [],
   "source": [
    "def feat_imp_DM(Feat_Imp, DM_test, DM_train):\n",
    "\n",
    "    \n",
    "    columns_DM = list(DM_test.columns.values)\n",
    "    \n",
    "    important= Feat_Imp.loc[:1266]\n",
    "    \n",
    "    feat= important.loc[:,'feature']\n",
    "    \n",
    "    lista=[]\n",
    "    for i in columns_DM:\n",
    "        \n",
    "        for j in feat:\n",
    "            if i==j:\n",
    "                lista.append(i)\n",
    "                \n",
    "         \n",
    "    \n",
    "    new_csv_test=DM_test.loc[:, DM_test.columns.isin(lista)]\n",
    "    new_csv_train=DM_train.loc[:, DM_train.columns.isin(lista)]\n",
    "    \n",
    "    DM = DM_test['Distant']\n",
    "    DM2= DM_train['Distant']\n",
    "    \n",
    "    DM_final_test = new_csv_test.join(DM, how='inner')\n",
    "    DM_final_train = new_csv_train.join(DM2, how='inner')\n",
    "    \n",
    "    #print(DM_final_test)\n",
    "    #print(DM_final_train)\n",
    "                \n",
    "    DM_final_test.to_csv('Features_Clean_Normalized_DM_test_Important_XGBoost.csv', index=False)\n",
    "    DM_final_train.to_csv('Features_Clean_Normalized_DM_train_Important_XGBoost.csv', index=False)  \n",
    "         \n",
    "\n",
    "\n",
    "feat_imp_DM(Feat_Imp, DM_test, DM_train)"
   ]
  },
  {
   "cell_type": "code",
   "execution_count": null,
   "metadata": {},
   "outputs": [],
   "source": []
  }
 ],
 "metadata": {
  "kernelspec": {
   "display_name": "Python 3",
   "language": "python",
   "name": "python3"
  },
  "language_info": {
   "codemirror_mode": {
    "name": "ipython",
    "version": 3
   },
   "file_extension": ".py",
   "mimetype": "text/x-python",
   "name": "python",
   "nbconvert_exporter": "python",
   "pygments_lexer": "ipython3",
   "version": "3.7.7"
  }
 },
 "nbformat": 4,
 "nbformat_minor": 4
}
