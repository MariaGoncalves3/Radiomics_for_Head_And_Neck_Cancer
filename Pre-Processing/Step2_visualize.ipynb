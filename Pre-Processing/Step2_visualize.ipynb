{
 "cells": [
  {
   "cell_type": "code",
   "execution_count": 1,
   "metadata": {},
   "outputs": [],
   "source": [
    "import os\n",
    "import nibabel as nib\n",
    "import six, numpy as np\n",
    "import SimpleITK as sitk\n",
    "import pandas as pd\n",
    "\n",
    "%matplotlib inline\n",
    "import matplotlib.pyplot as plt\n",
    "from scipy.ndimage import label\n",
    "from scipy import ndimage\n",
    "from nilearn.plotting import view_img, glass_brain, plot_anat, plot_epi\n",
    "\n",
    "from ipywidgets import widgets, interact\n",
    "import k3d\n",
    "\n",
    "\n",
    "import radiomics\n",
    "from radiomics import featureextractor  # This module is used for interaction with pyradiomics"
   ]
  },
  {
   "cell_type": "markdown",
   "metadata": {},
   "source": [
    "1 - Ler o csv total: full_information.csv"
   ]
  },
  {
   "cell_type": "code",
   "execution_count": 2,
   "metadata": {},
   "outputs": [],
   "source": [
    "def read_csv_dataset(csv_dataset_file):\n",
    "    df = pd.read_csv(csv_dataset_file)\n",
    "    return df\n",
    "\n",
    "csv_dataset_file = 'full_information.csv'\n",
    "df=read_csv_dataset(csv_dataset_file)"
   ]
  },
  {
   "cell_type": "markdown",
   "metadata": {},
   "source": [
    "2 - Fazer o display do csv total: full_information.csv"
   ]
  },
  {
   "cell_type": "code",
   "execution_count": 4,
   "metadata": {},
   "outputs": [
    {
     "ename": "FileNotFoundError",
     "evalue": "No such file or no access: '../../data/nii/CHUM-006/CT/image.nii.gz'",
     "output_type": "error",
     "traceback": [
      "\u001b[0;31m---------------------------------------------------------------------------\u001b[0m",
      "\u001b[0;31mFileNotFoundError\u001b[0m                         Traceback (most recent call last)",
      "\u001b[0;32m/opt/conda/lib/python3.7/site-packages/nibabel/loadsave.py\u001b[0m in \u001b[0;36mload\u001b[0;34m(filename, **kwargs)\u001b[0m\n\u001b[1;32m     41\u001b[0m     \u001b[0;32mtry\u001b[0m\u001b[0;34m:\u001b[0m\u001b[0;34m\u001b[0m\u001b[0;34m\u001b[0m\u001b[0m\n\u001b[0;32m---> 42\u001b[0;31m         \u001b[0mstat_result\u001b[0m \u001b[0;34m=\u001b[0m \u001b[0mos\u001b[0m\u001b[0;34m.\u001b[0m\u001b[0mstat\u001b[0m\u001b[0;34m(\u001b[0m\u001b[0mfilename\u001b[0m\u001b[0;34m)\u001b[0m\u001b[0;34m\u001b[0m\u001b[0;34m\u001b[0m\u001b[0m\n\u001b[0m\u001b[1;32m     43\u001b[0m     \u001b[0;32mexcept\u001b[0m \u001b[0mOSError\u001b[0m\u001b[0;34m:\u001b[0m\u001b[0;34m\u001b[0m\u001b[0;34m\u001b[0m\u001b[0m\n",
      "\u001b[0;31mFileNotFoundError\u001b[0m: [Errno 2] No such file or directory: '../../data/nii/CHUM-006/CT/image.nii.gz'",
      "\nDuring handling of the above exception, another exception occurred:\n",
      "\u001b[0;31mFileNotFoundError\u001b[0m                         Traceback (most recent call last)",
      "\u001b[0;32m<ipython-input-4-e0d8b818e0a3>\u001b[0m in \u001b[0;36m<module>\u001b[0;34m\u001b[0m\n\u001b[1;32m     18\u001b[0m \u001b[0;34m\u001b[0m\u001b[0m\n\u001b[1;32m     19\u001b[0m \u001b[0mdataPath\u001b[0m \u001b[0;34m=\u001b[0m \u001b[0;34m'../../data/nii/'\u001b[0m\u001b[0;34m\u001b[0m\u001b[0;34m\u001b[0m\u001b[0m\n\u001b[0;32m---> 20\u001b[0;31m \u001b[0mnp_todos_scans\u001b[0m\u001b[0;34m=\u001b[0m\u001b[0mload_scans\u001b[0m\u001b[0;34m(\u001b[0m\u001b[0mdf\u001b[0m\u001b[0;34m,\u001b[0m \u001b[0mdataPath\u001b[0m \u001b[0;34m)\u001b[0m\u001b[0;34m\u001b[0m\u001b[0;34m\u001b[0m\u001b[0m\n\u001b[0m\u001b[1;32m     21\u001b[0m \u001b[0mprint\u001b[0m\u001b[0;34m(\u001b[0m\u001b[0;34m\"np_todos_scans shape:\"\u001b[0m\u001b[0;34m,\u001b[0m \u001b[0mlen\u001b[0m\u001b[0;34m(\u001b[0m\u001b[0mnp_todos_scans\u001b[0m\u001b[0;34m)\u001b[0m\u001b[0;34m)\u001b[0m\u001b[0;34m\u001b[0m\u001b[0;34m\u001b[0m\u001b[0m\n\u001b[1;32m     22\u001b[0m \u001b[0;34m\u001b[0m\u001b[0m\n",
      "\u001b[0;32m<ipython-input-4-e0d8b818e0a3>\u001b[0m in \u001b[0;36mload_scans\u001b[0;34m(df, path)\u001b[0m\n\u001b[1;32m      8\u001b[0m         \u001b[0mficheiro\u001b[0m\u001b[0;34m=\u001b[0m\u001b[0mpath\u001b[0m\u001b[0;34m+\u001b[0m\u001b[0mrow\u001b[0m\u001b[0;34m[\u001b[0m\u001b[0;34m'Path'\u001b[0m\u001b[0;34m]\u001b[0m\u001b[0;34m+\u001b[0m\u001b[0;34m'/'\u001b[0m\u001b[0;34m+\u001b[0m\u001b[0mrow\u001b[0m\u001b[0;34m[\u001b[0m\u001b[0;34m'Scan'\u001b[0m\u001b[0;34m]\u001b[0m\u001b[0;34m\u001b[0m\u001b[0;34m\u001b[0m\u001b[0m\n\u001b[1;32m      9\u001b[0m         \u001b[0;31m#print(ficheiro)\u001b[0m\u001b[0;34m\u001b[0m\u001b[0;34m\u001b[0m\u001b[0;34m\u001b[0m\u001b[0m\n\u001b[0;32m---> 10\u001b[0;31m         \u001b[0mscan\u001b[0m \u001b[0;34m=\u001b[0m \u001b[0mnib\u001b[0m\u001b[0;34m.\u001b[0m\u001b[0mload\u001b[0m\u001b[0;34m(\u001b[0m\u001b[0mficheiro\u001b[0m\u001b[0;34m)\u001b[0m\u001b[0;34m\u001b[0m\u001b[0;34m\u001b[0m\u001b[0m\n\u001b[0m\u001b[1;32m     11\u001b[0m         \u001b[0ms\u001b[0m\u001b[0;34m=\u001b[0m\u001b[0mnp\u001b[0m\u001b[0;34m.\u001b[0m\u001b[0masarray\u001b[0m\u001b[0;34m(\u001b[0m\u001b[0mscan\u001b[0m\u001b[0;34m)\u001b[0m\u001b[0;34m\u001b[0m\u001b[0;34m\u001b[0m\u001b[0m\n\u001b[1;32m     12\u001b[0m         \u001b[0mtodos_scans\u001b[0m\u001b[0;34m.\u001b[0m\u001b[0mappend\u001b[0m\u001b[0;34m(\u001b[0m\u001b[0ms\u001b[0m\u001b[0;34m)\u001b[0m\u001b[0;34m\u001b[0m\u001b[0;34m\u001b[0m\u001b[0m\n",
      "\u001b[0;32m/opt/conda/lib/python3.7/site-packages/nibabel/loadsave.py\u001b[0m in \u001b[0;36mload\u001b[0;34m(filename, **kwargs)\u001b[0m\n\u001b[1;32m     42\u001b[0m         \u001b[0mstat_result\u001b[0m \u001b[0;34m=\u001b[0m \u001b[0mos\u001b[0m\u001b[0;34m.\u001b[0m\u001b[0mstat\u001b[0m\u001b[0;34m(\u001b[0m\u001b[0mfilename\u001b[0m\u001b[0;34m)\u001b[0m\u001b[0;34m\u001b[0m\u001b[0;34m\u001b[0m\u001b[0m\n\u001b[1;32m     43\u001b[0m     \u001b[0;32mexcept\u001b[0m \u001b[0mOSError\u001b[0m\u001b[0;34m:\u001b[0m\u001b[0;34m\u001b[0m\u001b[0;34m\u001b[0m\u001b[0m\n\u001b[0;32m---> 44\u001b[0;31m         \u001b[0;32mraise\u001b[0m \u001b[0mFileNotFoundError\u001b[0m\u001b[0;34m(\u001b[0m\u001b[0;34m\"No such file or no access: '%s'\"\u001b[0m \u001b[0;34m%\u001b[0m \u001b[0mfilename\u001b[0m\u001b[0;34m)\u001b[0m\u001b[0;34m\u001b[0m\u001b[0;34m\u001b[0m\u001b[0m\n\u001b[0m\u001b[1;32m     45\u001b[0m     \u001b[0;32mif\u001b[0m \u001b[0mstat_result\u001b[0m\u001b[0;34m.\u001b[0m\u001b[0mst_size\u001b[0m \u001b[0;34m<=\u001b[0m \u001b[0;36m0\u001b[0m\u001b[0;34m:\u001b[0m\u001b[0;34m\u001b[0m\u001b[0;34m\u001b[0m\u001b[0m\n\u001b[1;32m     46\u001b[0m         \u001b[0;32mraise\u001b[0m \u001b[0mImageFileError\u001b[0m\u001b[0;34m(\u001b[0m\u001b[0;34m\"Empty file: '%s'\"\u001b[0m \u001b[0;34m%\u001b[0m \u001b[0mfilename\u001b[0m\u001b[0;34m)\u001b[0m\u001b[0;34m\u001b[0m\u001b[0;34m\u001b[0m\u001b[0m\n",
      "\u001b[0;31mFileNotFoundError\u001b[0m: No such file or no access: '../../data/nii/CHUM-006/CT/image.nii.gz'"
     ]
    }
   ],
   "source": [
    "#Lê todos os scans para uma estrutura nparray\n",
    "def load_scans(df, path):\n",
    "    #print(df.columns.values)\n",
    "    \n",
    "    todos_scans=[]\n",
    "    n=0\n",
    "    for index, row in df.iterrows():\n",
    "        ficheiro=path+row['Path']+'/'+row['Scan']\n",
    "        #print(ficheiro)\n",
    "        scan = nib.load(ficheiro)\n",
    "        s=np.asarray(scan)\n",
    "        todos_scans.append(s)\n",
    "        #print(scan.shape)\n",
    "    #print(s)\n",
    "    np_todos_scans = np.asarray(todos_scans)\n",
    "    return np_todos_scans\n",
    "    \n",
    "        \n",
    "dataPath = '../../data/nii/'\n",
    "np_todos_scans=load_scans(df, dataPath ) \n",
    "print(\"np_todos_scans shape:\", len(np_todos_scans))\n",
    "\n"
   ]
  },
  {
   "cell_type": "code",
   "execution_count": 7,
   "metadata": {},
   "outputs": [
    {
     "data": {
      "application/vnd.jupyter.widget-view+json": {
       "model_id": "1469c34118af4acf8c713289aa059511",
       "version_major": 2,
       "version_minor": 0
      },
      "text/plain": [
       "interactive(children=(Dropdown(description='Patient', options=('CHUM-001', 'CHUM-002', 'CHUM-003', 'CHUM-004',…"
      ]
     },
     "metadata": {},
     "output_type": "display_data"
    }
   ],
   "source": [
    "#Mostrar tudo iterativamente\n",
    "def show_scans(patient,path):\n",
    "    registo=df.loc[df['Patient'] == patient]\n",
    "    registo_lista=registo.iloc[0]\n",
    "    ficheiro_scan=path+registo_lista['Path']+'/'+registo_lista['Scan']\n",
    "    ficheiro_mask=path+registo_lista['Path']+'/'+registo_lista['GTV Primary']\n",
    "    #print(\"Scan: \", ficheiro_scan)\n",
    "    #print(\"Mask: \", ficheiro_mask)\n",
    "    scan = nib.load(ficheiro_scan)\n",
    "    scan_np = scan.get_fdata().T\n",
    "    mask = nib.load(ficheiro_mask)\n",
    "    mask_np = mask.get_fdata().T\n",
    "    #print(mask_np)\n",
    "    print(scan_np.shape)\n",
    "    print(mask_np.shape)\n",
    "    #print(scan_np.shape[0])\n",
    "    @interact\n",
    "    def show_images(Slice=(0, scan_np.shape[0]-1)):\n",
    "        fig, (img1, img2) = plt.subplots(1, 2)\n",
    "        fig.suptitle('Horizontally stacked subplots')\n",
    "        img1.imshow(scan_np[Slice], cmap='gray')\n",
    "        img2.imshow(mask_np[Slice], cmap='gray')\n",
    "    return True\n",
    " \n",
    "    \n",
    "dataPath = '../../data/nii/'\n",
    "lista_de_casos= df['Patient'].tolist()\n",
    "\n",
    "@interact\n",
    "def show_patients(Patient=lista_de_casos):\n",
    "    show_scans(Patient,dataPath)\n",
    "    return True\n"
   ]
  },
  {
   "cell_type": "markdown",
   "metadata": {},
   "source": [
    "## Flip Scans"
   ]
  },
  {
   "cell_type": "code",
   "execution_count": 21,
   "metadata": {},
   "outputs": [
    {
     "data": {
      "text/plain": [
       "\"\\nfor index in range(z):\\n    im= img_array[index,:,:]\\n  \\n    plt.figure(figsize=(10,10))\\n    plt.imshow(flipped[index,:,:], cmap='gray')\\n\""
      ]
     },
     "execution_count": 21,
     "metadata": {},
     "output_type": "execute_result"
    }
   ],
   "source": [
    "a = pd.read_csv('full_information.csv')\n",
    "dataPath = '../../data/Head-Neck/'\n",
    "\n",
    "from PIL import Image\n",
    "import numpy as np\n",
    "\n",
    "#it is necessary to flip the CHUM-006, CHUM-008, CHUM-009 and CHUM-010 \n",
    "#[5],[6],[7] and [8]\n",
    "\n",
    "scanPath = dataPath + a['Path'][8]+ '/'+ a['Scan'][8]\n",
    "maskPath = dataPath + a['Path'][8]+ '/'+ a['GTV Primary'][8]\n",
    "\n",
    "  \n",
    "image = sitk.ReadImage(scanPath)\n",
    "img_array = sitk.GetArrayFromImage(image)\n",
    "flipped = np.flip(img_array, axis=1)\n",
    "img_flip=sitk.GetImageFromArray(flipped)\n",
    "sitk.WriteImage(img_flip,'../../data/Head-Neck/CHUM-010/CT/image.nii.gz') \n",
    "\n"
   ]
  },
  {
   "cell_type": "code",
   "execution_count": null,
   "metadata": {},
   "outputs": [],
   "source": []
  }
 ],
 "metadata": {
  "kernelspec": {
   "display_name": "Python 3",
   "language": "python",
   "name": "python3"
  },
  "language_info": {
   "codemirror_mode": {
    "name": "ipython",
    "version": 3
   },
   "file_extension": ".py",
   "mimetype": "text/x-python",
   "name": "python",
   "nbconvert_exporter": "python",
   "pygments_lexer": "ipython3",
   "version": "3.7.7"
  }
 },
 "nbformat": 4,
 "nbformat_minor": 4
}
